{
 "cells": [
  {
   "cell_type": "markdown",
   "id": "e1ea4b89",
   "metadata": {},
   "source": [
    "# 3. Hull-White Model and Interest Rate Derivatives"
   ]
  },
  {
   "cell_type": "markdown",
   "id": "6f8ae7b7",
   "metadata": {},
   "source": [
    "이번 강의에서는 이자율 파생상품의 가격결정에 사용되는 Hull White Model에 대해 공부하고 이를 활용해 이자율 파생상품의 가격을 결정합니다."
   ]
  },
  {
   "cell_type": "markdown",
   "id": "5328f423",
   "metadata": {},
   "source": [
    "## 1. Hull-White Model에 대한 설명"
   ]
  },
  {
   "cell_type": "markdown",
   "id": "e32e3885",
   "metadata": {},
   "source": [
    "Hull White Model(HW model)은 미래의 금리를 설명하는 모형으로, 금리의 평균회귀성을 고려한 모형입니다. 해당 모형은 Short rate Model로, 미래의 시점 $t$에서 그 잠시 후의 시점인 $t+dt$ 사이의 짧은 시간 동안 적용되는 금리에 대한 모형입니다. HW model에 따르면 $t$시점에서의 단기금리 $r(t)$는 다음과 같은 움직임을 보입니다.\n",
    "<br>\n",
    "$$dr(t) = \\kappa(\\theta (t)-r(t))dt + \\sigma dW$$\n",
    "이때 $\\theta (t)$는 $t$시점에서의 단기금리의 평균이고, $\\kappa$는 회귀계수입니다.<br>\n",
    "즉, 단기금리의 움직임은 평균회귀와 난수의 합으로 정해진다는 것입니다. 위의 모형은 one-factor HW model이라고도 불리며, 다음과 같은 two-factor HW model 또한 존재합니다.\n",
    "<br>\n",
    "$$r(t) = x(t) + y(t) + \\theta (t)$$\n",
    "$$dx(t) = -{k_x}x(t)dt + {\\sigma_x} dW_1$$\n",
    "$$dy(t) = -{k_y}y(t)dt + {\\sigma_y} dW_2$$\n",
    "$$Cov(dW_1, dW_2) = \\rho$$\n",
    "<br>\n",
    "해당 모형을 사용하여 몬테카를로 시뮬레이션을 실행하면, 미래 특정 시점에서의 단기금리의 분포를 근사할 수 있으며, 미래 시점에서 단기금리에 따라 수익률이 정해지는 이자율 파생상품의 가격 결정을 실행할 수 있습니다.<br>\n",
    "하지만 현실에는 $dt$라는 아주 짧은 기간동안 정의되는 초단기 금리는 존재하지 않습니다. 그래서 이러한 단기금리를 기초자산으로 가지는 국내 이자율 파생상품은 CD 91일물 금리를 사용합니다."
   ]
  },
  {
   "cell_type": "markdown",
   "id": "c8237286",
   "metadata": {},
   "source": [
    "## 2. Hull-White Model 설정\n",
    "HW model의 $\\theta$는 다음과 같이 정의됩니다.<br>\n",
    "$$\\theta (t) = {{\\partial f^M}\\over{\\partial t}}(0,t) + \\kappa f^M (0,t) + {{\\sigma^2}\\over{2\\kappa}}(1-e^{-2\\kappa t}) $$<br>\n",
    "이때, $f^M(0,t)$는 0 시점에서 추정한 $(t,t+dt)$기간의 선도금리입니다.<br>\n",
    "우선 모형 설정을 위해, 현물 이자율부터 도출합니다. 현물 이자율 도출을 위해 CD91일물 금리를 기초자산으로 가지는 이자율스왑을 이용합니다. 현재 CD91일 금리는 3.52%이고 3개월마다 이자를 교환하는 이자율스왑 금리는 다음과 같습니다."
   ]
  },
  {
   "cell_type": "code",
   "execution_count": 1,
   "id": "5148f767",
   "metadata": {},
   "outputs": [],
   "source": [
    "import pandas as pd\n",
    "import numpy as np\n",
    "import scipy\n",
    "import matplotlib.pyplot as plt"
   ]
  },
  {
   "cell_type": "code",
   "execution_count": 2,
   "id": "5a9c44df",
   "metadata": {},
   "outputs": [],
   "source": [
    "IRS = pd.read_excel(\"IRS.xlsx\")\n",
    "IRS[\"IRS금리\"]/=100"
   ]
  },
  {
   "cell_type": "code",
   "execution_count": 3,
   "id": "142e8b99",
   "metadata": {},
   "outputs": [
    {
     "data": {
      "text/html": [
       "<div>\n",
       "<style scoped>\n",
       "    .dataframe tbody tr th:only-of-type {\n",
       "        vertical-align: middle;\n",
       "    }\n",
       "\n",
       "    .dataframe tbody tr th {\n",
       "        vertical-align: top;\n",
       "    }\n",
       "\n",
       "    .dataframe thead th {\n",
       "        text-align: right;\n",
       "    }\n",
       "</style>\n",
       "<table border=\"1\" class=\"dataframe\">\n",
       "  <thead>\n",
       "    <tr style=\"text-align: right;\">\n",
       "      <th></th>\n",
       "      <th>만기(년)</th>\n",
       "      <th>IRS금리</th>\n",
       "    </tr>\n",
       "  </thead>\n",
       "  <tbody>\n",
       "    <tr>\n",
       "      <th>0</th>\n",
       "      <td>1</td>\n",
       "      <td>0.030750</td>\n",
       "    </tr>\n",
       "    <tr>\n",
       "      <th>1</th>\n",
       "      <td>2</td>\n",
       "      <td>0.028575</td>\n",
       "    </tr>\n",
       "    <tr>\n",
       "      <th>2</th>\n",
       "      <td>3</td>\n",
       "      <td>0.027950</td>\n",
       "    </tr>\n",
       "    <tr>\n",
       "      <th>3</th>\n",
       "      <td>4</td>\n",
       "      <td>0.027850</td>\n",
       "    </tr>\n",
       "    <tr>\n",
       "      <th>4</th>\n",
       "      <td>5</td>\n",
       "      <td>0.027875</td>\n",
       "    </tr>\n",
       "    <tr>\n",
       "      <th>5</th>\n",
       "      <td>7</td>\n",
       "      <td>0.027975</td>\n",
       "    </tr>\n",
       "    <tr>\n",
       "      <th>6</th>\n",
       "      <td>10</td>\n",
       "      <td>0.028275</td>\n",
       "    </tr>\n",
       "    <tr>\n",
       "      <th>7</th>\n",
       "      <td>12</td>\n",
       "      <td>0.028450</td>\n",
       "    </tr>\n",
       "    <tr>\n",
       "      <th>8</th>\n",
       "      <td>15</td>\n",
       "      <td>0.028400</td>\n",
       "    </tr>\n",
       "    <tr>\n",
       "      <th>9</th>\n",
       "      <td>20</td>\n",
       "      <td>0.027475</td>\n",
       "    </tr>\n",
       "  </tbody>\n",
       "</table>\n",
       "</div>"
      ],
      "text/plain": [
       "   만기(년)     IRS금리\n",
       "0      1  0.030750\n",
       "1      2  0.028575\n",
       "2      3  0.027950\n",
       "3      4  0.027850\n",
       "4      5  0.027875\n",
       "5      7  0.027975\n",
       "6     10  0.028275\n",
       "7     12  0.028450\n",
       "8     15  0.028400\n",
       "9     20  0.027475"
      ]
     },
     "execution_count": 3,
     "metadata": {},
     "output_type": "execute_result"
    }
   ],
   "source": [
    "IRS"
   ]
  },
  {
   "cell_type": "markdown",
   "id": "1f407081",
   "metadata": {},
   "source": [
    "현물이자율 데이터프레임을 제작합니다."
   ]
  },
  {
   "cell_type": "code",
   "execution_count": 4,
   "id": "e7555501",
   "metadata": {},
   "outputs": [],
   "source": [
    "ZR = pd.DataFrame(index = range(1,81),columns = [\"R(t)\"])\n",
    "ZR.index/=4\n",
    "ZR.iloc[0] = 0.0352\n",
    "ZR[\"R(t)\"] = pd.to_numeric(ZR[\"R(t)\"])"
   ]
  },
  {
   "cell_type": "markdown",
   "id": "26fb086b",
   "metadata": {},
   "source": [
    "이제 두 시점과 해당 시점들에서의 현물이자율이 정해질 때, 두 시점 사이에서의 선도금리를 구하는 함수를 만들고, IRS금리가 현재 데이터와 같아지는 현물이자율 곡선을 도출합니다. 이때, 순간 선도금리 곡선과 그 미분까지 이용해야 하기 때문에 이전과 달리 할인계수를 보간하기로 합니다."
   ]
  },
  {
   "cell_type": "code",
   "execution_count": 5,
   "id": "9b3301e8",
   "metadata": {},
   "outputs": [],
   "source": [
    "def findforward(T,S,RT,RS):\n",
    "    if (S<=T):\n",
    "        return -999\n",
    "    DF1 = np.exp(-T*RT)\n",
    "    DF2 = np.exp(-S*RS)\n",
    "    DFratio = DF1/DF2\n",
    "    return (DFratio - 1)/(S-T)\n",
    "\n",
    "def linearprice(rate,ZR,T,irs):\n",
    "    Zero = ZR.iloc[0:T*4].copy()\n",
    "    Zero.loc[T][0] = rate\n",
    "    Zero[\"DF\"] = np.exp(-Zero.index*Zero[\"R(t)\"])\n",
    "    Zero[\"DF\"] = pd.to_numeric(Zero[\"DF\"])\n",
    "    Zero[\"DF\"] = Zero[\"DF\"].interpolate()\n",
    "    Zero[\"R(t)\"] = -np.log(Zero[\"DF\"])/Zero.index\n",
    "    floatleg = Zero.iloc[0,0]*Zero.iloc[0,1]\n",
    "    fixleg = irs*Zero.iloc[0,1]\n",
    "    for i in range(1,Zero.shape[0]-2):\n",
    "        floatleg += findforward(Zero.index[i],Zero.index[i+1],Zero[\"R(t)\"].iloc[i],Zero[\"R(t)\"].iloc[i+1])*Zero.iloc[i+1,1]\n",
    "        fixleg += irs*Zero.iloc[i+1,1]\n",
    "    return fixleg-floatleg\n",
    "    "
   ]
  },
  {
   "cell_type": "code",
   "execution_count": 6,
   "id": "03081d1b",
   "metadata": {},
   "outputs": [],
   "source": [
    "for i in range(0,10):\n",
    "    T = IRS.iloc[i,0]\n",
    "    irs = IRS.iloc[i,1]\n",
    "    r = scipy.optimize.fsolve(linearprice,irs,args = (ZR,T,irs))[0]\n",
    "    ZR.loc[T,\"R(t)\"] = r\n",
    "    ZR[\"DF\"] = np.exp(-ZR.index*ZR[\"R(t)\"])\n",
    "    ZR[\"DF\"] = pd.to_numeric(ZR[\"DF\"])\n",
    "    ZR[\"DF\"].loc[:T] = ZR[\"DF\"].loc[:T].interpolate()\n",
    "    ZR[\"R(t)\"] = -np.log(ZR[\"DF\"])/ZR.index"
   ]
  },
  {
   "cell_type": "markdown",
   "id": "538ae4bd",
   "metadata": {},
   "source": [
    "이제 구한 현물이자율을 바탕으로 각 시점에서의 순간선도금리를 구하고, 그것을 차분하여 순간선도금리의 미분함수를 구합니다."
   ]
  },
  {
   "cell_type": "code",
   "execution_count": 7,
   "id": "1eb02dfc",
   "metadata": {},
   "outputs": [],
   "source": [
    "ZRall = pd.DataFrame(index = range(1,252*20+1),columns = [\"R(t)\"])\n",
    "Ft = pd.DataFrame(index = range(1,252*20+1),columns = [\"F(t)\"])\n",
    "dFt = pd.DataFrame(index = range(1,252*20+1),columns = [\"dF(t)\"])\n",
    "ZRall.index/=252\n",
    "Ft.index/=252\n",
    "dFt.index/=252"
   ]
  },
  {
   "cell_type": "code",
   "execution_count": 8,
   "id": "d746a94d",
   "metadata": {},
   "outputs": [],
   "source": [
    "for i in range(0,ZR.shape[0]):\n",
    "    T = ZR.index[i]\n",
    "    R = ZR.loc[T][0]\n",
    "    ZRall.loc[T][0] = R"
   ]
  },
  {
   "cell_type": "code",
   "execution_count": 9,
   "id": "c9d486a2",
   "metadata": {},
   "outputs": [],
   "source": [
    "ZRall[\"R(t)\"] = pd.to_numeric(ZRall[\"R(t)\"])"
   ]
  },
  {
   "cell_type": "code",
   "execution_count": 10,
   "id": "a6b3fa6c",
   "metadata": {},
   "outputs": [],
   "source": [
    "ZRall = ZRall.interpolate(method=\"polynomial\",order = 3)"
   ]
  },
  {
   "cell_type": "code",
   "execution_count": 11,
   "id": "4daf7bf3",
   "metadata": {},
   "outputs": [],
   "source": [
    "ZRall.iloc[0,0] = 0.0352\n",
    "ZRall = ZRall.interpolate(method = 'index')"
   ]
  },
  {
   "cell_type": "code",
   "execution_count": 12,
   "id": "d2557951",
   "metadata": {},
   "outputs": [],
   "source": [
    "for i in range(0,ZRall.shape[0]-1):\n",
    "    T = ZRall.index[i]\n",
    "    S = ZRall.index[i+1]\n",
    "    RT = ZRall.loc[T][0]\n",
    "    RS = ZRall.loc[S][0]\n",
    "    Ft.loc[T][0] = findforward(T,S,RT,RS)\n",
    "for i in range(0,ZRall.shape[0]-2):\n",
    "    T = Ft.index[i]\n",
    "    S = Ft.index[i+1]\n",
    "    RT = Ft.loc[T][0]\n",
    "    RS = Ft.loc[S][0]\n",
    "    dFt.loc[T][0] = (RS-RT)/(T-S)"
   ]
  },
  {
   "cell_type": "markdown",
   "id": "4274c07c",
   "metadata": {},
   "source": [
    "$\\kappa = 0.1$, $\\sigma = 0.01$으로 설정 후 $\\theta$를 구합니다."
   ]
  },
  {
   "cell_type": "code",
   "execution_count": 13,
   "id": "03a5880e",
   "metadata": {},
   "outputs": [],
   "source": [
    "theta = pd.DataFrame(index = range(1,252*20+1),columns = [\"theta\"])\n",
    "theta.index/=252\n",
    "kappa = 0.1\n",
    "sigma = 0.01"
   ]
  },
  {
   "cell_type": "code",
   "execution_count": 14,
   "id": "0d1bc2dd",
   "metadata": {},
   "outputs": [],
   "source": [
    "theta[\"theta\"] = dFt[\"dF(t)\"] + kappa*Ft[\"F(t)\"]+(sigma**2/(2*kappa))*(1-np.exp(-2*kappa*theta.index))"
   ]
  },
  {
   "cell_type": "markdown",
   "id": "00a44630",
   "metadata": {},
   "source": [
    "## 3. Monte Carlo Simulation with Hull-White Model"
   ]
  },
  {
   "cell_type": "markdown",
   "id": "75f4897d",
   "metadata": {},
   "source": [
    "이제 구한 $\\theta$를 이용하여 몬테카를로 시뮬레이션을 실행하면 이자율 파생상품의 적정가치를 계산할 수 있습니다.<br> MC를 이용하여 다음과 같은 DLB의 가격결정을 시행합니다.<br>\n",
    "원금 : 10000<br>\n",
    "만기 : 2년<br>\n",
    "기초자산 : CD 91일물 금리<br>\n",
    "수익률 : 만기시점 기초자산이 3% 이상일 경우 5%, 4% 이하일 경우 3%<br>"
   ]
  },
  {
   "cell_type": "code",
   "execution_count": 15,
   "id": "1cd37296",
   "metadata": {},
   "outputs": [],
   "source": [
    "r0 = 0.0352\n",
    "T = 2\n",
    "days = 252\n",
    "nsimulation = 10000"
   ]
  },
  {
   "cell_type": "code",
   "execution_count": 16,
   "id": "bc18270d",
   "metadata": {},
   "outputs": [],
   "source": [
    "Normal = np.random.normal(size=(T*days, nsimulation))"
   ]
  },
  {
   "cell_type": "code",
   "execution_count": 17,
   "id": "5fa04996",
   "metadata": {},
   "outputs": [],
   "source": [
    "path = np.zeros((T*days+1,nsimulation))\n",
    "path[0] = r0"
   ]
  },
  {
   "cell_type": "code",
   "execution_count": 18,
   "id": "a0cb767a",
   "metadata": {},
   "outputs": [],
   "source": [
    "dt = 1/252"
   ]
  },
  {
   "cell_type": "code",
   "execution_count": 19,
   "id": "67caecbc",
   "metadata": {},
   "outputs": [],
   "source": [
    "for i in range(1,T*days+1):\n",
    "    path[i] = path[i-1]+kappa*(theta.iloc[i-1,0]-path[i-1])*dt + sigma*np.sqrt(dt)*Normal[i-1]"
   ]
  },
  {
   "cell_type": "code",
   "execution_count": 20,
   "id": "8c5929ae",
   "metadata": {},
   "outputs": [
    {
     "data": {
      "image/png": "[encoded data removed]",
      "text/plain": [
       "<Figure size 640x480 with 1 Axes>"
      ]
     },
     "metadata": {},
     "output_type": "display_data"
    }
   ],
   "source": [
    "plt.plot(path,color = \"gray\",linewidth = \"0.1\")\n",
    "plt.show()"
   ]
  },
  {
   "cell_type": "markdown",
   "id": "053c2efc",
   "metadata": {},
   "source": [
    "이제 만기 시점에서 금리가 4% 이상인 경우 11000원을, 아닐 경우 10600원을 지급하게 설정한 후, 현물이자율을 통해 현재가치를 구하면 DLB의 현재가치를 구할 수 있습니다."
   ]
  },
  {
   "cell_type": "code",
   "execution_count": 21,
   "id": "6b9adc86",
   "metadata": {},
   "outputs": [],
   "source": [
    "up = np.sum(1*(path[252]>0.03))\n",
    "down = nsimulation-up"
   ]
  },
  {
   "cell_type": "code",
   "execution_count": 22,
   "id": "c5c92349",
   "metadata": {},
   "outputs": [],
   "source": [
    "price = ((11000*up + 10600*down)/10000)*ZR.loc[2.00,\"DF\"]"
   ]
  },
  {
   "cell_type": "code",
   "execution_count": 23,
   "id": "664ab3cf",
   "metadata": {},
   "outputs": [
    {
     "data": {
      "text/plain": [
       "10254.460664122624"
      ]
     },
     "execution_count": 23,
     "metadata": {},
     "output_type": "execute_result"
    }
   ],
   "source": [
    "price"
   ]
  },
  {
   "cell_type": "markdown",
   "id": "63fac38d",
   "metadata": {},
   "source": [
    "## 4. Trinomial Tree with Hull-White Model"
   ]
  },
  {
   "cell_type": "markdown",
   "id": "34fcb0c8",
   "metadata": {},
   "source": [
    "HW 모형을 이용해 파생상품의 가치평가를 하는 방법은 MC 이외에 삼항트리가 있습니다. 삼항트리를 통해 파생상품 가치평가를 하는 방법은 다음과 같습니다.<br>\n",
    "\n",
    "1.만기까지의 구간$[0,T]$를 $N$개의 동일구간으로 나눕니다\n",
    "\n",
    "2.$[t_M,t_{M+1}]$동안 적용되는 이자율 $R(t)$을 도입합니다.\n",
    "\n",
    "3.금리가 상승할 수 있는 최고점 $R_{max}$와 하락할 수 있는 최저점 $R_{min}$을 설정합니다.\n",
    "\n",
    "4.추세항이 없는 이자율의 확률과정을 생성하고, 각 노드에서 상승, 하락, 유지 시의 이자율을 구하고 그 확률을 계산합니다. 단, 상한에서는 확률과정이 (유지, 하락, 2단계 하락) 으로 재정의 되며 하한에서도 동일하게 재정의됩니다.\n",
    "\n",
    "5.위에서 만든 노드에 추세항을 더해 각 노드에서의 이자율과 그 노드로 도달할 확률을 계산하여 이자율 파생상품의 가격을 구합니다.\n",
    "\n",
    "삼항트리와 몬테카를로 시뮬레이션의 차이점으로 두드러지는 것은, 삼항트리는 단기금리가 아닌 기간동안 적용되는 금리를 시뮬레이션하고, 삼항트리는 이자율의 상한과 하한을 설정한다는 것입니다.<br>\n",
    "\n",
    "위에서 정의한 상품을 계산하기 위해 $\\Delta t = 0.25$로 정의하고, $R_{max},R_{min}$은 각각 추세항에서 두 번 연속으로 상승했을 때와, 두 번 연속 하락했을 때로 정의합니다. 그리고 각 노드에서 상승과 하락시 이자율 변화량 $\\Delta R$은 다음과 같이 정의합니다.<br>\n",
    "$$\\Delta R = \\sigma \\sqrt{3\\Delta t} $$"
   ]
  },
  {
   "cell_type": "code",
   "execution_count": 24,
   "id": "714df562",
   "metadata": {},
   "outputs": [],
   "source": [
    "dr = sigma*np.sqrt(3*0.25)"
   ]
  },
  {
   "cell_type": "markdown",
   "id": "fdaeb238",
   "metadata": {},
   "source": [
    "이제 각 노드에서 다음 시점에서의 이자율의 기댓값과 분산을 이론적인 기댓값, 분산과 일치시키는 상승, 유지, 하락 확률을 구합니다. pnu, pnd는 상한, 하한이 아닌 일반적인 노드에서 각각 상승, 하락 확률이고, psu, psd는 상한에서의 유지, 2단계 하락의 확률, piu, pid는 하한에서의 2단계 상승, 유지의 확률입니다."
   ]
  },
  {
   "cell_type": "code",
   "execution_count": 25,
   "id": "596c9b2f",
   "metadata": {},
   "outputs": [],
   "source": [
    "def pnu(kappa,j,dt):\n",
    "    k = kappa*j*dt\n",
    "    return 1/6 + (k**2-k)/2\n",
    "def pnd(kappa,j,dt):\n",
    "    k = kappa*j*dt\n",
    "    return 1/6 + (k**2 + k)/2\n",
    "def pnm(kappa,j,dt):\n",
    "    return 1-pnu(kappa,j,dt)-pnd(kappa,j,dt)\n",
    "\n",
    "def psu(kappa,j,dt):\n",
    "    k = kappa*j*dt\n",
    "    return 7/6 + (k**2 - 3*k)/2\n",
    "def psd(kappa,j,dt):\n",
    "    k = kappa*j*dt\n",
    "    return 1/6 + (k**2 - k)/2\n",
    "def psm(kappa,j,dt):\n",
    "    return 1-psu(kappa,j,dt)-psd(kappa,j,dt)\n",
    "\n",
    "def piu(kappa,j,dt):\n",
    "    k = kappa*j*dt\n",
    "    return 1/6 + (k**2 + 3*k)/2\n",
    "def pid(kappa,j,dt):\n",
    "    k = kappa*j*dt\n",
    "    return 7/6 + (k**2 + k)/2\n",
    "def pim(kappa,j,dt):\n",
    "    return 1-piu(kappa,j,dt)-pid(kappa,j,dt)"
   ]
  },
  {
   "cell_type": "markdown",
   "id": "49c408b7",
   "metadata": {},
   "source": [
    "이제 추세항이 없는 금리 노드를 나타내는 데이터프레임과 그 시점에서의 금리가 해당 노드의 금리일 확률을 나타내는 데이터프레임을 만듭니다."
   ]
  },
  {
   "cell_type": "code",
   "execution_count": 26,
   "id": "95ff320c",
   "metadata": {},
   "outputs": [],
   "source": [
    "rate = pd.DataFrame(index = ['uu','u',0,'d','dd'], columns = range(0,9))\n",
    "IRprob= pd.DataFrame(index = ['uu','u',0,'d','dd'], columns = range(0,9))\n",
    "rate.columns/=4\n",
    "IRprob.columns/=4"
   ]
  },
  {
   "cell_type": "code",
   "execution_count": 27,
   "id": "59f2cb5d",
   "metadata": {},
   "outputs": [],
   "source": [
    "rate.iloc[2,0] = 0\n",
    "IRprob[0] = 0\n",
    "IRprob.iloc[2,0] = 1"
   ]
  },
  {
   "cell_type": "code",
   "execution_count": 28,
   "id": "102ebc0a",
   "metadata": {},
   "outputs": [],
   "source": [
    "rate.loc[0] = 0\n",
    "rate.loc['uu'] = 2*dr\n",
    "rate.loc['u'] = dr\n",
    "rate.loc['dd'] = -2*dr\n",
    "rate.loc['d'] = dr\n",
    "rate[0] = 0"
   ]
  },
  {
   "cell_type": "code",
   "execution_count": 29,
   "id": "e2e85202",
   "metadata": {},
   "outputs": [
    {
     "data": {
      "text/html": [
       "<div>\n",
       "<style scoped>\n",
       "    .dataframe tbody tr th:only-of-type {\n",
       "        vertical-align: middle;\n",
       "    }\n",
       "\n",
       "    .dataframe tbody tr th {\n",
       "        vertical-align: top;\n",
       "    }\n",
       "\n",
       "    .dataframe thead th {\n",
       "        text-align: right;\n",
       "    }\n",
       "</style>\n",
       "<table border=\"1\" class=\"dataframe\">\n",
       "  <thead>\n",
       "    <tr style=\"text-align: right;\">\n",
       "      <th></th>\n",
       "      <th>0.00</th>\n",
       "      <th>0.25</th>\n",
       "      <th>0.50</th>\n",
       "      <th>0.75</th>\n",
       "      <th>1.00</th>\n",
       "      <th>1.25</th>\n",
       "      <th>1.50</th>\n",
       "      <th>1.75</th>\n",
       "      <th>2.00</th>\n",
       "    </tr>\n",
       "  </thead>\n",
       "  <tbody>\n",
       "    <tr>\n",
       "      <th>uu</th>\n",
       "      <td>0</td>\n",
       "      <td>0.017321</td>\n",
       "      <td>0.017321</td>\n",
       "      <td>0.017321</td>\n",
       "      <td>0.017321</td>\n",
       "      <td>0.017321</td>\n",
       "      <td>0.017321</td>\n",
       "      <td>0.017321</td>\n",
       "      <td>0.017321</td>\n",
       "    </tr>\n",
       "    <tr>\n",
       "      <th>u</th>\n",
       "      <td>0</td>\n",
       "      <td>0.00866</td>\n",
       "      <td>0.00866</td>\n",
       "      <td>0.00866</td>\n",
       "      <td>0.00866</td>\n",
       "      <td>0.00866</td>\n",
       "      <td>0.00866</td>\n",
       "      <td>0.00866</td>\n",
       "      <td>0.00866</td>\n",
       "    </tr>\n",
       "    <tr>\n",
       "      <th>0</th>\n",
       "      <td>0</td>\n",
       "      <td>0</td>\n",
       "      <td>0</td>\n",
       "      <td>0</td>\n",
       "      <td>0</td>\n",
       "      <td>0</td>\n",
       "      <td>0</td>\n",
       "      <td>0</td>\n",
       "      <td>0</td>\n",
       "    </tr>\n",
       "    <tr>\n",
       "      <th>d</th>\n",
       "      <td>0</td>\n",
       "      <td>0.00866</td>\n",
       "      <td>0.00866</td>\n",
       "      <td>0.00866</td>\n",
       "      <td>0.00866</td>\n",
       "      <td>0.00866</td>\n",
       "      <td>0.00866</td>\n",
       "      <td>0.00866</td>\n",
       "      <td>0.00866</td>\n",
       "    </tr>\n",
       "    <tr>\n",
       "      <th>dd</th>\n",
       "      <td>0</td>\n",
       "      <td>-0.017321</td>\n",
       "      <td>-0.017321</td>\n",
       "      <td>-0.017321</td>\n",
       "      <td>-0.017321</td>\n",
       "      <td>-0.017321</td>\n",
       "      <td>-0.017321</td>\n",
       "      <td>-0.017321</td>\n",
       "      <td>-0.017321</td>\n",
       "    </tr>\n",
       "  </tbody>\n",
       "</table>\n",
       "</div>"
      ],
      "text/plain": [
       "    0.00      0.25      0.50      0.75      1.00      1.25      1.50  \\\n",
       "uu     0  0.017321  0.017321  0.017321  0.017321  0.017321  0.017321   \n",
       "u      0   0.00866   0.00866   0.00866   0.00866   0.00866   0.00866   \n",
       "0      0         0         0         0         0         0         0   \n",
       "d      0   0.00866   0.00866   0.00866   0.00866   0.00866   0.00866   \n",
       "dd     0 -0.017321 -0.017321 -0.017321 -0.017321 -0.017321 -0.017321   \n",
       "\n",
       "        1.75      2.00  \n",
       "uu  0.017321  0.017321  \n",
       "u    0.00866   0.00866  \n",
       "0          0         0  \n",
       "d    0.00866   0.00866  \n",
       "dd -0.017321 -0.017321  "
      ]
     },
     "execution_count": 29,
     "metadata": {},
     "output_type": "execute_result"
    }
   ],
   "source": [
    "rate"
   ]
  },
  {
   "cell_type": "code",
   "execution_count": 30,
   "id": "1d51737e",
   "metadata": {},
   "outputs": [],
   "source": [
    "for i in range(1,9):\n",
    "    IRprob.iloc[0,i] = psu(kappa,2,0.25)*IRprob.iloc[0,i-1] + pnu(kappa,1,0.25)*IRprob.iloc[1,i-1]\n",
    "    IRprob.iloc[1,i] = pnu(kappa,0,0.25)*IRprob.iloc[2,i-1] + psm(kappa,2,0.25)*IRprob.iloc[0,i-1] + pnm(kappa,1,0.25)*IRprob.iloc[1,i-1]\n",
    "    IRprob.iloc[2,i] = pnm(kappa,0,0.25)*IRprob.iloc[2,i-1] + psd(kappa,2,0.25)*IRprob.iloc[0,i-1] + pnd(kappa,1,0.25)*IRprob.iloc[1,i-1]\n",
    "    IRprob.iloc[2,i] += pnu(kappa,-1,0.25)*IRprob.iloc[3,i-1]+piu(kappa,-2,0.25)*IRprob.iloc[4,i-1]\n",
    "    IRprob.iloc[3,i] = pnd(kappa,0,0.25)*IRprob.iloc[2,i-1] + pnm(kappa,-1,0.25)*IRprob.iloc[3,i-1]+pim(kappa,-2,0.25)*IRprob.iloc[4,i-1]\n",
    "    IRprob.iloc[4,i] = pid(kappa,-2,0.25)*IRprob.iloc[4,i-1]+pnd(kappa,-1,0.25)*IRprob.iloc[3,i-1]"
   ]
  },
  {
   "cell_type": "code",
   "execution_count": 31,
   "id": "bce1c689",
   "metadata": {},
   "outputs": [
    {
     "data": {
      "text/html": [
       "<div>\n",
       "<style scoped>\n",
       "    .dataframe tbody tr th:only-of-type {\n",
       "        vertical-align: middle;\n",
       "    }\n",
       "\n",
       "    .dataframe tbody tr th {\n",
       "        vertical-align: top;\n",
       "    }\n",
       "\n",
       "    .dataframe thead th {\n",
       "        text-align: right;\n",
       "    }\n",
       "</style>\n",
       "<table border=\"1\" class=\"dataframe\">\n",
       "  <thead>\n",
       "    <tr style=\"text-align: right;\">\n",
       "      <th></th>\n",
       "      <th>0.00</th>\n",
       "      <th>0.25</th>\n",
       "      <th>0.50</th>\n",
       "      <th>0.75</th>\n",
       "      <th>1.00</th>\n",
       "      <th>1.25</th>\n",
       "      <th>1.50</th>\n",
       "      <th>1.75</th>\n",
       "      <th>2.00</th>\n",
       "    </tr>\n",
       "  </thead>\n",
       "  <tbody>\n",
       "    <tr>\n",
       "      <th>uu</th>\n",
       "      <td>0</td>\n",
       "      <td>0.0</td>\n",
       "      <td>0.025747</td>\n",
       "      <td>0.062451</td>\n",
       "      <td>0.103153</td>\n",
       "      <td>0.144571</td>\n",
       "      <td>0.185162</td>\n",
       "      <td>0.224204</td>\n",
       "      <td>0.261367</td>\n",
       "    </tr>\n",
       "    <tr>\n",
       "      <th>u</th>\n",
       "      <td>0</td>\n",
       "      <td>0.166667</td>\n",
       "      <td>0.222118</td>\n",
       "      <td>0.225913</td>\n",
       "      <td>0.20607</td>\n",
       "      <td>0.175802</td>\n",
       "      <td>0.14136</td>\n",
       "      <td>0.105715</td>\n",
       "      <td>0.070285</td>\n",
       "    </tr>\n",
       "    <tr>\n",
       "      <th>0</th>\n",
       "      <td>1</td>\n",
       "      <td>0.666667</td>\n",
       "      <td>0.504271</td>\n",
       "      <td>0.421984</td>\n",
       "      <td>0.377264</td>\n",
       "      <td>0.350179</td>\n",
       "      <td>0.331385</td>\n",
       "      <td>0.316494</td>\n",
       "      <td>0.303442</td>\n",
       "    </tr>\n",
       "    <tr>\n",
       "      <th>d</th>\n",
       "      <td>0</td>\n",
       "      <td>0.166667</td>\n",
       "      <td>0.222118</td>\n",
       "      <td>0.225913</td>\n",
       "      <td>0.205766</td>\n",
       "      <td>0.174516</td>\n",
       "      <td>0.13806</td>\n",
       "      <td>0.099066</td>\n",
       "      <td>0.058707</td>\n",
       "    </tr>\n",
       "    <tr>\n",
       "      <th>dd</th>\n",
       "      <td>0</td>\n",
       "      <td>0.0</td>\n",
       "      <td>0.025747</td>\n",
       "      <td>0.063739</td>\n",
       "      <td>0.107747</td>\n",
       "      <td>0.154932</td>\n",
       "      <td>0.204034</td>\n",
       "      <td>0.254521</td>\n",
       "      <td>0.3062</td>\n",
       "    </tr>\n",
       "  </tbody>\n",
       "</table>\n",
       "</div>"
      ],
      "text/plain": [
       "    0.00      0.25      0.50      0.75      1.00      1.25      1.50  \\\n",
       "uu     0       0.0  0.025747  0.062451  0.103153  0.144571  0.185162   \n",
       "u      0  0.166667  0.222118  0.225913   0.20607  0.175802   0.14136   \n",
       "0      1  0.666667  0.504271  0.421984  0.377264  0.350179  0.331385   \n",
       "d      0  0.166667  0.222118  0.225913  0.205766  0.174516   0.13806   \n",
       "dd     0       0.0  0.025747  0.063739  0.107747  0.154932  0.204034   \n",
       "\n",
       "        1.75      2.00  \n",
       "uu  0.224204  0.261367  \n",
       "u   0.105715  0.070285  \n",
       "0   0.316494  0.303442  \n",
       "d   0.099066  0.058707  \n",
       "dd  0.254521    0.3062  "
      ]
     },
     "execution_count": 31,
     "metadata": {},
     "output_type": "execute_result"
    }
   ],
   "source": [
    "IRprob"
   ]
  },
  {
   "cell_type": "markdown",
   "id": "f7498c6c",
   "metadata": {},
   "source": [
    "이제 추세항과 HW model을 적용시킨 금리를 구합니다."
   ]
  },
  {
   "cell_type": "code",
   "execution_count": 32,
   "id": "92bfd74b",
   "metadata": {},
   "outputs": [],
   "source": [
    "IRrate = pd.DataFrame(index = ['uu','u',0,'d','dd'], columns = range(0,9))\n",
    "IRrate.columns/=4"
   ]
  },
  {
   "cell_type": "code",
   "execution_count": 33,
   "id": "96b6a5cf",
   "metadata": {},
   "outputs": [],
   "source": [
    "IRrate[0] = 0\n",
    "IRrate.iloc[2,0] = r0"
   ]
  },
  {
   "cell_type": "code",
   "execution_count": 34,
   "id": "043943d3",
   "metadata": {},
   "outputs": [],
   "source": [
    "IRrate.iloc[1,1] = r0+rate.iloc[1,1]\n",
    "IRrate.iloc[2,1] = r0+rate.iloc[2,1]\n",
    "IRrate.iloc[3,1] = r0+rate.iloc[3,1]"
   ]
  },
  {
   "cell_type": "code",
   "execution_count": 35,
   "id": "3e224f9b",
   "metadata": {},
   "outputs": [],
   "source": [
    "for i in range(2,9):\n",
    "    thetat = theta.loc[(i-1)*0.25][0]\n",
    "    drift = kappa*(thetat-IRrate.iloc[2,i-1])+IRrate.iloc[2,i-1]\n",
    "    IRrate.iloc[0,i] = drift+rate.iloc[0,i]\n",
    "    IRrate.iloc[1,i] = drift+rate.iloc[1,i]\n",
    "    IRrate.iloc[2,i] = drift+rate.iloc[2,i]\n",
    "    IRrate.iloc[3,i] = drift+rate.iloc[3,i]\n",
    "    IRrate.iloc[4,i] = drift+rate.iloc[4,i]"
   ]
  },
  {
   "cell_type": "code",
   "execution_count": 36,
   "id": "5eb81d0f",
   "metadata": {},
   "outputs": [
    {
     "data": {
      "text/html": [
       "<div>\n",
       "<style scoped>\n",
       "    .dataframe tbody tr th:only-of-type {\n",
       "        vertical-align: middle;\n",
       "    }\n",
       "\n",
       "    .dataframe tbody tr th {\n",
       "        vertical-align: top;\n",
       "    }\n",
       "\n",
       "    .dataframe thead th {\n",
       "        text-align: right;\n",
       "    }\n",
       "</style>\n",
       "<table border=\"1\" class=\"dataframe\">\n",
       "  <thead>\n",
       "    <tr style=\"text-align: right;\">\n",
       "      <th></th>\n",
       "      <th>0.00</th>\n",
       "      <th>0.25</th>\n",
       "      <th>0.50</th>\n",
       "      <th>0.75</th>\n",
       "      <th>1.00</th>\n",
       "      <th>1.25</th>\n",
       "      <th>1.50</th>\n",
       "      <th>1.75</th>\n",
       "      <th>2.00</th>\n",
       "    </tr>\n",
       "  </thead>\n",
       "  <tbody>\n",
       "    <tr>\n",
       "      <th>uu</th>\n",
       "      <td>0.0000</td>\n",
       "      <td>NaN</td>\n",
       "      <td>0.052483</td>\n",
       "      <td>0.048747</td>\n",
       "      <td>0.046325</td>\n",
       "      <td>0.042852</td>\n",
       "      <td>0.040775</td>\n",
       "      <td>0.038627</td>\n",
       "      <td>0.036439</td>\n",
       "    </tr>\n",
       "    <tr>\n",
       "      <th>u</th>\n",
       "      <td>0.0000</td>\n",
       "      <td>0.04386</td>\n",
       "      <td>0.043823</td>\n",
       "      <td>0.040087</td>\n",
       "      <td>0.037665</td>\n",
       "      <td>0.034191</td>\n",
       "      <td>0.032115</td>\n",
       "      <td>0.029967</td>\n",
       "      <td>0.027779</td>\n",
       "    </tr>\n",
       "    <tr>\n",
       "      <th>0</th>\n",
       "      <td>0.0352</td>\n",
       "      <td>0.0352</td>\n",
       "      <td>0.035163</td>\n",
       "      <td>0.031427</td>\n",
       "      <td>0.029005</td>\n",
       "      <td>0.025531</td>\n",
       "      <td>0.023455</td>\n",
       "      <td>0.021306</td>\n",
       "      <td>0.019119</td>\n",
       "    </tr>\n",
       "    <tr>\n",
       "      <th>d</th>\n",
       "      <td>0.0000</td>\n",
       "      <td>0.04386</td>\n",
       "      <td>0.043823</td>\n",
       "      <td>0.040087</td>\n",
       "      <td>0.037665</td>\n",
       "      <td>0.034191</td>\n",
       "      <td>0.032115</td>\n",
       "      <td>0.029967</td>\n",
       "      <td>0.027779</td>\n",
       "    </tr>\n",
       "    <tr>\n",
       "      <th>dd</th>\n",
       "      <td>0.0000</td>\n",
       "      <td>NaN</td>\n",
       "      <td>0.017842</td>\n",
       "      <td>0.014106</td>\n",
       "      <td>0.011684</td>\n",
       "      <td>0.008211</td>\n",
       "      <td>0.006134</td>\n",
       "      <td>0.003986</td>\n",
       "      <td>0.001798</td>\n",
       "    </tr>\n",
       "  </tbody>\n",
       "</table>\n",
       "</div>"
      ],
      "text/plain": [
       "      0.00     0.25      0.50      0.75      1.00      1.25      1.50  \\\n",
       "uu  0.0000      NaN  0.052483  0.048747  0.046325  0.042852  0.040775   \n",
       "u   0.0000  0.04386  0.043823  0.040087  0.037665  0.034191  0.032115   \n",
       "0   0.0352   0.0352  0.035163  0.031427  0.029005  0.025531  0.023455   \n",
       "d   0.0000  0.04386  0.043823  0.040087  0.037665  0.034191  0.032115   \n",
       "dd  0.0000      NaN  0.017842  0.014106  0.011684  0.008211  0.006134   \n",
       "\n",
       "        1.75      2.00  \n",
       "uu  0.038627  0.036439  \n",
       "u   0.029967  0.027779  \n",
       "0   0.021306  0.019119  \n",
       "d   0.029967  0.027779  \n",
       "dd  0.003986  0.001798  "
      ]
     },
     "execution_count": 36,
     "metadata": {},
     "output_type": "execute_result"
    }
   ],
   "source": [
    "IRrate"
   ]
  },
  {
   "cell_type": "markdown",
   "id": "b15e31d6",
   "metadata": {},
   "source": [
    "만기에서 3% 이상의 금리는 상한에서의 금리밖에 없으므로 만기에서 5%의 금리가 적용될 확률은 금리의 상한에 도달할 확률인 26%이며 이를 통한 DLB의 가격은 다음과 같습니다."
   ]
  },
  {
   "cell_type": "code",
   "execution_count": 37,
   "id": "b60600fb",
   "metadata": {},
   "outputs": [],
   "source": [
    "price = ((11000*IRprob.iloc[0,-1] + 10600*(1-IRprob.iloc[0,-1])))*ZR.loc[2.00,\"DF\"]"
   ]
  },
  {
   "cell_type": "code",
   "execution_count": 39,
   "id": "5c0fb856",
   "metadata": {},
   "outputs": [
    {
     "data": {
      "text/plain": [
       "10119.192099338876"
      ]
     },
     "execution_count": 39,
     "metadata": {},
     "output_type": "execute_result"
    }
   ],
   "source": [
    "price"
   ]
  }
 ],
 "metadata": {
  "kernelspec": {
   "display_name": "Python 3 (ipykernel)",
   "language": "python",
   "name": "python3"
  },
  "language_info": {
   "codemirror_mode": {
    "name": "ipython",
    "version": 3
   },
   "file_extension": ".py",
   "mimetype": "text/x-python",
   "name": "python",
   "nbconvert_exporter": "python",
   "pygments_lexer": "ipython3",
   "version": "3.11.5"
  }
 },
 "nbformat": 4,
 "nbformat_minor": 5
}
