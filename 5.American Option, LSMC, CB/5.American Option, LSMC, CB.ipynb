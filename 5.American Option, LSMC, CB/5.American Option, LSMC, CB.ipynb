{
 "cells": [
  {
   "cell_type": "markdown",
   "id": "e4b0ea5c",
   "metadata": {},
   "source": [
    "# American Option, LSMC, Convertible Bond"
   ]
  },
  {
   "cell_type": "markdown",
   "id": "d5cd36a4",
   "metadata": {},
   "source": [
    "옵션은 만기에만 행사가 가능한 유러피안 옵션과 언제라도 행사가 가능한 아메리칸 옵션 두 종류로 나뉩니다. 이번 강의에서는 아메리칸 옵션을 평가하는 방법론을 공부하고, 이를 통해 전환사채를 평가합니다."
   ]
  },
  {
   "cell_type": "markdown",
   "id": "0eeb9cf1",
   "metadata": {},
   "source": [
    "## 1. 아메리칸 옵션의 평가방법\n",
    "\n",
    "아메리칸 옵션의 보유자는 보유하고 있는 기간 동안 끊임없이 보유하고 있는 옵션의 가격과 옵션을 지금 행사했을 때 얻게 되는 현금흐름을 비교합니다. 그리고 만약 옵션을 행사했을 때 얻게 되는 현금흐름, 즉 행사가치가 보유하고 있는 옵션의 가격인 보유가치보다 높아지게 되면 해당 옵션을 조기행사합니다.<br>\n",
    " 아메리칸 옵션의 평가는 기존의 평가방법에 이러한 판단을 도입하는 것으로 실행할 수 있습니다. 다만 현실적으로 모든 시간에 대해 해당 과정을 반복하는 것은 불가능하기에, 몬테카를로 시뮬레이션과 유한차분법의 단위시간마다 해당 가치 비교를 시행합니다.\n",
    " \n",
    "### 1-1. 유한차분법을 이용한 아메리칸 옵션의 평가"
   ]
  },
  {
   "cell_type": "markdown",
   "id": "582025b0",
   "metadata": {},
   "source": [
    "유한차분법은 각 시점마다 옵션의 가격을 계산하는 방법론이기 때문에 간단하게 가치 비교를 시행할 수 있습니다. 해당 격자점에서의 옵션의 가격과 행사가치를 비교해서 더 큰 값이 해당 격자점에서의 아메리칸 옵션의 가치가 됩니다."
   ]
  },
  {
   "cell_type": "code",
   "execution_count": 1,
   "id": "18d03475",
   "metadata": {},
   "outputs": [],
   "source": [
    "import pandas as pd\n",
    "import numpy as np\n",
    "import matplotlib.pyplot as plt\n",
    "import numpy\n",
    "from scipy.stats import norm\n",
    "N = norm.cdf\n",
    "\n",
    "def DeltaBS(S, K, T, r, q, sigma):\n",
    "    if T == 0:\n",
    "        if S>K:\n",
    "            return 1\n",
    "        else:\n",
    "            return 0\n",
    "    else:\n",
    "        d1 = (np.log(S / (K) + (r - q + ( 0.5) * sigma ** 2) * T)) / (sigma * np.sqrt(T))\n",
    "        d2 = d1 -  sigma * np.sqrt(T)\n",
    "        return  N(d1)    \n",
    "def a(S,t,dS,dt,r,sigma) :\n",
    "    a1 = 0.5*((sigma*S)/dS)**2\n",
    "    a2 = 0.5*r*S/dS\n",
    "    return -a1-a2\n",
    "def b(S,t,dS,dt,r,sigma) :\n",
    "    b1 = ((sigma*S)/dS)**2\n",
    "    return r + b1\n",
    "def c(S,t,dS,dt,r,sigma) :\n",
    "    c1 = 0.5*((sigma*S)/dS)**2\n",
    "    c2 = 0.5*r*S/dS\n",
    "    return -c1+c2\n",
    "def ai(S,t,dS,dt,r,sigma) :\n",
    "    return a(S,t,dS,dt,r,sigma) * dt\n",
    "def bi(S,t,dS,dt,r,sigma) :\n",
    "    return b(S,t,dS,dt,r,sigma) * dt +1\n",
    "def ci(S,t,dS,dt,r,sigma) :\n",
    "    return c(S,t,dS,dt,r,sigma) * dt\n",
    "def matrix(Smax,t,dS,dt,r,sigma):\n",
    "    N = int(Smax/dS)\n",
    "    mat = np.zeros([N,N])\n",
    "    mat[0,0] = 2*ci(dS,t,dS,dt,r,sigma)+bi(dS,t,dS,dt,r,sigma)\n",
    "    mat[0,1] = -ci(dS,t,dS,dt,r,sigma)+ai(dS,t,dS,dt,r,sigma)\n",
    "    for i in range(1,N-1):\n",
    "        mat[i,i-1] = ci((i+1)*dS,t,dS,dt,r,sigma)\n",
    "        mat[i,i] = bi((i+1)*dS,t,dS,dt,r,sigma)\n",
    "        mat[i,i+1] = ai((i+1)*dS,t,dS,dt,r,sigma)\n",
    "    mat[N-1,N-2] = ci(Smax,t,dS,dt,r,sigma)-ai(Smax,t,dS,dt,r,sigma)\n",
    "    mat[N-1,N-1] = bi(Smax,t,dS,dt,r,sigma)+2*ai(Smax,t,dS,dt,r,sigma)\n",
    "    return mat\n",
    "\n",
    "s0 = 100\n",
    "K = 100\n",
    "q = 0\n",
    "r = 0.02\n",
    "sigma = 0.2\n",
    "T = 1\n",
    "days = 250\n",
    "nsimulation = 10000\n",
    "dt = 1/250\n",
    "dS = 1"
   ]
  },
  {
   "cell_type": "code",
   "execution_count": 2,
   "id": "9d254c55",
   "metadata": {},
   "outputs": [],
   "source": [
    "mean = np.exp(r+0.5*sigma**2)\n",
    "var = (np.exp(sigma**2)-1)*(np.exp(2*r+sigma**2))\n",
    "Smax = np.ceil(mean+5*np.sqrt(var))*100\n",
    "call = pd.DataFrame(index = np.arange(dS,Smax+dS,dS), columns = range(1,252))\n",
    "for i in call.index:\n",
    "    call.loc[i,251] = np.maximum(i-K,0)"
   ]
  },
  {
   "cell_type": "markdown",
   "id": "c4a29c24",
   "metadata": {},
   "source": [
    "이제 원래의 유한차분법 과정에 각 노드에서의 가치를 비교하는 로직을 넣어주면 됩니다."
   ]
  },
  {
   "cell_type": "code",
   "execution_count": 3,
   "id": "2dbbc586",
   "metadata": {},
   "outputs": [],
   "source": [
    "for i in range(1,251):\n",
    "    t = (251-i)/250\n",
    "    v = np.array(call[251-i+1])\n",
    "    call[251-i] = np.linalg.inv(matrix(Smax,t,dS,dt,r,sigma))@v\n",
    "    for j in range(0,int(Smax)):# 로직 추가\n",
    "        if call.loc[j+1,251-i]<np.maximum(j+1-K,0):\n",
    "            call.loc[j+1,251-i] = np.maximum(j+1-K,0)"
   ]
  },
  {
   "cell_type": "code",
   "execution_count": 4,
   "id": "0de5aab7",
   "metadata": {},
   "outputs": [
    {
     "data": {
      "text/plain": [
       "8.909483361601229"
      ]
     },
     "execution_count": 4,
     "metadata": {},
     "output_type": "execute_result"
    }
   ],
   "source": [
    "call.loc[100,1]"
   ]
  },
  {
   "cell_type": "markdown",
   "id": "185419f6",
   "metadata": {},
   "source": [
    "해당 로직을 넣지 않은 평가, 즉 유러피안 옵션의 가격도 구해서 비교를 합니다."
   ]
  },
  {
   "cell_type": "code",
   "execution_count": 5,
   "id": "dcbc2045",
   "metadata": {},
   "outputs": [
    {
     "name": "stdout",
     "output_type": "stream",
     "text": [
      "8.909483361601229\n"
     ]
    }
   ],
   "source": [
    "call2 = pd.DataFrame(index = np.arange(dS,Smax+dS,dS), columns = range(1,252))\n",
    "for i in call.index:\n",
    "    call2.loc[i,251] = np.maximum(i-K,0)\n",
    "for i in range(1,251):\n",
    "    t = (251-i)/250\n",
    "    v = np.array(call2[251-i+1])\n",
    "    call2[251-i] = np.linalg.inv(matrix(Smax,t,dS,dt,r,sigma))@v\n",
    "print(call2.loc[100,1])"
   ]
  },
  {
   "cell_type": "markdown",
   "id": "bc98e061",
   "metadata": {},
   "source": [
    "이처럼 배당이 없는 주식의 아메리칸 콜옵션은 조기행사가 되지 않기에 유러피안 콜옵션과 같은 가격을 가집니다.<br>\n",
    "이제 아메리칸 풋옵션의 가치와 유러피안 풋옵션의 가치를 비교하겠습니다."
   ]
  },
  {
   "cell_type": "code",
   "execution_count": 6,
   "id": "10dd8a20",
   "metadata": {},
   "outputs": [
    {
     "name": "stdout",
     "output_type": "stream",
     "text": [
      "7.100543046961538\n",
      "6.929429104019949\n"
     ]
    }
   ],
   "source": [
    "put = pd.DataFrame(index = np.arange(dS,Smax+dS,dS), columns = range(1,252))\n",
    "put2 = pd.DataFrame(index = np.arange(dS,Smax+dS,dS), columns = range(1,252))\n",
    "for i in put.index:\n",
    "    put.loc[i,251] = np.maximum(K-i,0)\n",
    "    put2.loc[i,251] = np.maximum(K-i,0)\n",
    "for i in range(1,251):\n",
    "    t = (251-i)/250\n",
    "    v = np.array(put[251-i+1])\n",
    "    put[251-i] = np.linalg.inv(matrix(Smax,t,dS,dt,r,sigma))@v\n",
    "    for j in range(0,int(Smax)):# 로직 추가\n",
    "        if put.loc[j+1,251-i]<np.maximum(K-j-1,0):\n",
    "            put.loc[j+1,251-i] = np.maximum(K-j-1,0)    \n",
    "print(put.loc[100,1])\n",
    "\n",
    "for i in range(1,251):\n",
    "    t = (251-i)/250\n",
    "    v = np.array(put2[251-i+1])\n",
    "    put2[251-i] = np.linalg.inv(matrix(Smax,t,dS,dt,r,sigma))@v\n",
    "print(put2.loc[100,1])"
   ]
  },
  {
   "cell_type": "markdown",
   "id": "34069dbf",
   "metadata": {},
   "source": [
    "아메리칸 풋옵션은 유러피안 풋옵션의 가치보다 높은 것을 확인할 수 있습니다. 이를 그래프로 그리면 다음과 같습니다."
   ]
  },
  {
   "cell_type": "code",
   "execution_count": 7,
   "id": "7444f2da",
   "metadata": {},
   "outputs": [
    {
     "data": {
      "text/plain": [
       "<Axes: >"
      ]
     },
     "execution_count": 7,
     "metadata": {},
     "output_type": "execute_result"
    },
    {
     "data": {
      "image/png": "[encoded data removed]",
      "text/plain": [
       "<Figure size 640x480 with 1 Axes>"
      ]
     },
     "metadata": {},
     "output_type": "display_data"
    }
   ],
   "source": [
    "put.loc[:,1].plot()\n",
    "put2.loc[:,1].plot()"
   ]
  },
  {
   "cell_type": "markdown",
   "id": "c908b081",
   "metadata": {},
   "source": [
    "옵션의 가격의 차이가 내가격으로 가면 갈수록 커지는 것을 확인할 수 있습니다. 즉 아메리칸 풋옵션은 심내가격에서 조기행사됩니다."
   ]
  },
  {
   "cell_type": "markdown",
   "id": "e65f5c8b",
   "metadata": {},
   "source": [
    "### 1-2. 몬테카를로 시뮬레이션을 이용한 아메리칸 옵션의 평가"
   ]
  },
  {
   "cell_type": "markdown",
   "id": "00e7f033",
   "metadata": {},
   "source": [
    "몬테카를로 시뮬레이션으로는 아메리칸 옵션을 평가하기가 쉽지 않습니다. 몬테카를로 시뮬레이션은 각 시점마다의 주가만 관측할 수 있을 뿐 그 시점에서의 옵션의 가격은 Closed-Form Solution이 없는 이상 알 수 없기 때문입니다. 그래서 나온 방법이 LSMC(Least Square Monte Carlo simulation)입니다.<br>\n",
    "LSMC는 다음과 같은 과정으로 평가를 진행합니다.\n",
    "1. 각 path의 종점에서의 옵션의 행사가치를 계산합니다.\n",
    "2. 다음 과정을 시작시점+1일 까지 반복합니다.<br>\n",
    "2-1. T시점에서의 주식가격이 내가격인 path들을 골라낸 후 해당 path들에 한해서, T+1에서의 각 path의 옵션가격의 T시점에서의 가치를 종속변수로, T에서의 각 path의 주식가격, 주식가격의 제곱을 독립변수로 두고 회귀분석을 시행합니다.<br>\n",
    "2-2. T시점에서의 각 path에서의 주식가격을 회귀식에 대입한 값을 해당 시점, 해당 path에서의 옵션가격으로 설정합니다.<br>\n",
    "2-3. 각 path별로 옵션가격과 행사가치를 비교하여 큰 값을 해당 시점, 해당 path에서의 옵션의 가치로 설정합니다.<br>\n",
    "2-4. T시점에서의 주식가격이 외가격인 path의 경우 T+1 시점에서의 옵션가격을 할인한 가격을 해당 시점의 옵션가격으로 설정합니다.\n",
    "3. 시작시점+1일의 모든 path에서의 옵션가격의 평균값을 할인해 시작시점에서의 가치를 구합니다.<br>\n",
    "\n",
    "따라서 이를 시행하기 위해서는 path 데이터프레임과 옵션가치 데이터프레임, 총 두 개의 데이터프레임이 필요합니다."
   ]
  },
  {
   "cell_type": "code",
   "execution_count": 8,
   "id": "be6e3f3a",
   "metadata": {},
   "outputs": [],
   "source": [
    "Normal = np.random.normal(size=(T*days, nsimulation))\n",
    "path = np.zeros((T*days+1,nsimulation))\n",
    "path[0] = s0\n",
    "logds = r*dt + Normal * sigma*np.sqrt(dt)\n",
    "for i in range(1,T*days+1):\n",
    "    path[i] = path[i-1]*(1+logds[i-1])"
   ]
  },
  {
   "cell_type": "code",
   "execution_count": 9,
   "id": "2ba7a62e",
   "metadata": {},
   "outputs": [],
   "source": [
    "Path = pd.DataFrame(0,index = range(1,nsimulation+1),columns = range(1,T*days+2))"
   ]
  },
  {
   "cell_type": "code",
   "execution_count": 10,
   "id": "2e7bc751",
   "metadata": {},
   "outputs": [],
   "source": [
    "Path+=path.T"
   ]
  },
  {
   "cell_type": "code",
   "execution_count": 11,
   "id": "441d631f",
   "metadata": {},
   "outputs": [],
   "source": [
    "LSMC = pd.DataFrame(index = range(1,nsimulation+1),columns = range(1,T*days+2))"
   ]
  },
  {
   "cell_type": "markdown",
   "id": "6987a046",
   "metadata": {},
   "source": [
    "아메리칸 옵션과 유러피안 옵션의 차이가 있던 풋옵션의 평가를 진행합니다."
   ]
  },
  {
   "cell_type": "code",
   "execution_count": 12,
   "id": "e44fdce7",
   "metadata": {},
   "outputs": [],
   "source": [
    "for i in LSMC.index:\n",
    "    LSMC.loc[i,251] = np.maximum(K-Path.loc[i,251],0)"
   ]
  },
  {
   "cell_type": "markdown",
   "id": "b231bd28",
   "metadata": {},
   "source": [
    "이제 각 시점마다 회귀분석으로 옵션가치를 추정하는 과정을 구현합니다."
   ]
  },
  {
   "cell_type": "code",
   "execution_count": 13,
   "id": "bd5f7e80",
   "metadata": {},
   "outputs": [],
   "source": [
    "for i in range(0,249):\n",
    "    ITM = np.where(Path[250-i]<K)[0]\n",
    "    y = np.array(LSMC[251-i])*np.exp(-r*dt)\n",
    "    y = y[ITM]\n",
    "    X = np.zeros([10000,3])\n",
    "    X[:,0]+=1\n",
    "    X[:,1]+=Path[250-i]\n",
    "    X[:,2]+=Path[250-i]**2\n",
    "    X = X[ITM]\n",
    "    b = np.linalg.inv(X.T@X)@X.T@y\n",
    "    EY = X@b\n",
    "    Value = np.maximum(EY,np.maximum(K-Path[250-i][ITM+1],0))\n",
    "    LSMC[250-i] = LSMC[251-i]*np.exp(-r*dt)\n",
    "    for j in ITM:\n",
    "        LSMC.loc[j+1,250-i] = Value[j+1]"
   ]
  },
  {
   "cell_type": "markdown",
   "id": "19539df9",
   "metadata": {},
   "source": [
    "1일차의 주식 가격이 모두 같기 때문에 회귀분석 진행이 불가능합니다. 이제 2일차의 옵션가격의 평균을 할인하여 아메리칸 풋옵션의 가격을 구합니다."
   ]
  },
  {
   "cell_type": "code",
   "execution_count": 14,
   "id": "f419b4af",
   "metadata": {},
   "outputs": [
    {
     "name": "stdout",
     "output_type": "stream",
     "text": [
      "7.280901649326944\n"
     ]
    }
   ],
   "source": [
    "print(np.mean(LSMC[2])*np.exp(-r*dt))"
   ]
  },
  {
   "cell_type": "markdown",
   "id": "06ec0c48",
   "metadata": {},
   "source": [
    "LSMC의 결과값 역시 유러피안 풋옵션보다 높은 것을 확인할 수 있습니다."
   ]
  }
 ],
 "metadata": {
  "kernelspec": {
   "display_name": "Python 3 (ipykernel)",
   "language": "python",
   "name": "python3"
  },
  "language_info": {
   "codemirror_mode": {
    "name": "ipython",
    "version": 3
   },
   "file_extension": ".py",
   "mimetype": "text/x-python",
   "name": "python",
   "nbconvert_exporter": "python",
   "pygments_lexer": "ipython3",
   "version": "3.11.5"
  }
 },
 "nbformat": 4,
 "nbformat_minor": 5
}
