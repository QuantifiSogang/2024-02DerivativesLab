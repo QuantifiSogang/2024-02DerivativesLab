{
 "cells": [
  {
   "cell_type": "markdown",
   "id": "24eca360",
   "metadata": {},
   "source": [
    "# 7. FICC Trading"
   ]
  },
  {
   "cell_type": "markdown",
   "id": "20a3d230",
   "metadata": {},
   "source": [
    "FICC는 Fixed Income, Currency, Commodity의 약자로 전통적인 자산 중 주식을 제외한 자산들을 일컫는 말입니다. 이전 세션에서 주식 파생상품의 헤지트레이딩을 실시한 것처럼, 이번 세션에서는 시장에 존재하는 몇 가지의 FICC 파생상품과 그 운용 방법을 공부합니다."
   ]
  },
  {
   "cell_type": "code",
   "execution_count": 262,
   "id": "f4dac7f0",
   "metadata": {},
   "outputs": [],
   "source": [
    "import numpy as np\n",
    "import pandas as pd\n",
    "import scipy\n",
    "import matplotlib.pyplot as plt\n",
    "from scipy import optimize"
   ]
  },
  {
   "cell_type": "markdown",
   "id": "3fdeb4ea",
   "metadata": {},
   "source": [
    "## 1. IRS with YTM"
   ]
  },
  {
   "cell_type": "markdown",
   "id": "5f648e5b",
   "metadata": {},
   "source": [
    "저희는 이자율에 대해 배울 때, IRS에 대해 공부했으며 그 때의 IRS는 매 기마다 91일물 CD금리와 고정 금리를 교환하는 상품이었습니다. 하지만 시장에 존재하는 이자율은 매우 많기 때문에, 91일물 CD금리가 아닌 금리를 변동금리로 삼는 IRS 또한 많이 존재합니다. 한 예시로, 국고채 3년 YTM 금리를 변동금리로 삼는 IRS가 존재합니다. 이런 식으로 무이표금리가 아닌 YTM을 변동금리로 삼는 IRS를 평가하는 방법은 다음과 같습니다.\n",
    "1. 채권의 발행일이 지금보다 $t$년 이후이고, 만기가 $T$년이며, 연당 이자 지금 횟수 $n$회, 이표율 $r$을 가지는 가상채권을 설정합니다.(이 때 $T$와 $n$은 기준이 되는 채권과 동일하게 설정합니다)\n",
    "2. 주어진 현물이자율에서 선도금리를 계산하여 해당 가상채권의 가격을 구합니다.\n",
    "3. 해찾기를 통해 액면가와 채권가격이 동일해지는 $r$을 구합니다.<br>\n",
    "\n",
    "변동 금리를 지급하는 주체는 $r$을 매 기마다 지급하고, 고정금리를 지급하는 주체는 고정금리를 지급하는 것을 이용해 이자율스왑의 가치를 평가합니다.<br>\n",
    "우선 선형 보간 함수와 선도금리 계산 함수, 현물이자율 계산 함수를 작성합니다."
   ]
  },
  {
   "cell_type": "code",
   "execution_count": 268,
   "id": "ca939856",
   "metadata": {},
   "outputs": [],
   "source": [
    "def linear_interpolation(Tr,r,T):\n",
    "    if T<=Tr[0]:\n",
    "        rt = r[0]\n",
    "    elif T>=Tr[-1]:\n",
    "        rt = r[-1]\n",
    "    else:\n",
    "        MaxL = np.where(Tr<=T)[0][-1]\n",
    "        MinU = np.where(Tr>T)[0][0]\n",
    "        RL = r[MaxL]\n",
    "        RU = r[MinU]\n",
    "        rt = RL + ((RU-RL)/(Tr[MinU]-Tr[MaxL]))*(T-Tr[MaxL])\n",
    "    return rt\n",
    "def Calc_ForwardRate(Tr,r,start,period): # 현물이자율이 주어졌을 때, (start, start+period)동안 적용되는 선도금리 계산\n",
    "    fend = start + period\n",
    "    DF1 = np.exp(-linear_interpolation(Tr,r,start)*start)\n",
    "    DF2 = np.exp(-linear_interpolation(Tr,r,fend)*fend)\n",
    "    forward = ((DF1/DF2)-1)/period\n",
    "    return forward\n",
    "\n",
    "def bondprice(last,index,Tr,ZR,ytm):\n",
    "    ZR2 = ZR.copy()\n",
    "    ZR2[index] = last\n",
    "    bond = 0\n",
    "    NC = int(Tr[index]*2)\n",
    "    for i in range(0,NC):\n",
    "        tenor = (i+1)*0.5\n",
    "        zr = linear_interpolation(Tr[0:index+1],ZR2[0:index+1],tenor)\n",
    "        bond+=ytm*np.exp(-zr*tenor)/2\n",
    "    bond+=np.exp(-zr*tenor)\n",
    "    return bond-1\n",
    "\n",
    "def YTMtoZero(Tr,r):\n",
    "    N = len(r)\n",
    "    zero = r.copy()\n",
    "    zero*=0\n",
    "    for i in range(0,N):\n",
    "        if Tr[i]<1:\n",
    "            zero[i] = r[i]\n",
    "        else:\n",
    "            rt = optimize.fsolve(bondprice,0.03,args = (i,Tr,zero,r[i]))\n",
    "            zero[i] = rt\n",
    "    return zero"
   ]
  },
  {
   "cell_type": "code",
   "execution_count": 235,
   "id": "adcf855e",
   "metadata": {},
   "outputs": [],
   "source": [
    "Tr[0] = 0.25\n",
    "Tr[1] = 0.5\n",
    "Tr[2] = 0.75\n",
    "Tr[3] = 1\n",
    "Tr[4] = 1.5\n",
    "Tr[5] = 2\n",
    "Tr[6] = 2.5\n",
    "Tr[7] = 3\n",
    "Tr[8] = 4\n",
    "Tr[9] = 5\n",
    "Tr[10] = 7\n",
    "Tr[11] = 10\n",
    "Tr[12] = 15\n",
    "Tr[13] = 20\n",
    "Tr[14] = 30\n",
    "Tr[15] = 50\n",
    "r[0] = 0.03065\n",
    "r[1] = 0.0294\n",
    "r[2] = 0.02925\n",
    "r[3] = 0.02860\n",
    "r[4] = 0.02840\n",
    "r[5] = 0.02830\n",
    "r[6] = 0.02825\n",
    "r[7] = 0.02772\n",
    "r[8] = 0.02847\n",
    "r[9] = 0.02820\n",
    "r[10] = 0.02945\n",
    "r[11] = 0.02920\n",
    "r[12] = 0.02875\n",
    "r[13] = 0.02870\n",
    "r[14] = 0.02820\n",
    "r[15] = 0.02737"
   ]
  },
  {
   "cell_type": "code",
   "execution_count": 259,
   "id": "372a3e3c",
   "metadata": {},
   "outputs": [],
   "source": [
    "ZR = YTMtoZero(Tr,r)"
   ]
  },
  {
   "cell_type": "markdown",
   "id": "b72c60d7",
   "metadata": {},
   "source": [
    "그리고 현물이자율과 가상채권의 발행일, 만기, 이자 지급 횟수, 이표율이 정해졌을 때 채권의 가격을 구하는 함수를 작성합니다."
   ]
  },
  {
   "cell_type": "code",
   "execution_count": 289,
   "id": "e90a363f",
   "metadata": {},
   "outputs": [],
   "source": [
    "def VBond(coupon,Tr,ZR,Start,Mat,couponT):\n",
    "    NC = int(Mat/couponT)\n",
    "    bond = 0\n",
    "    for i in range(0,NC):\n",
    "        CS = Start + i*couponT\n",
    "        FR = Calc_ForwardRate(Tr,ZR,Start,CS+couponT)\n",
    "        bond+= coupon*couponT*np.exp(-FR*(CS+couponT))\n",
    "    bond+= np.exp(-FR*(Start+Mat))\n",
    "    PR = linear_interpolation(Tr,ZR,Start)\n",
    "    bond*=np.exp(Start*PR)\n",
    "    return bond-1"
   ]
  },
  {
   "cell_type": "markdown",
   "id": "9caeaec7",
   "metadata": {},
   "source": [
    "이자율을 변경하는 시점에서, 채권 가격이 액면가와 같아지는 이표율이 그 시점에서의 YTM이 되고, 변동 금리 지급 주체는 해당 금리를 지급합니다. <br>\n",
    "\n",
    "이제 한 예시로, 액면가 10000원, 국고채 3년 YTM과 고정금리를 6년동안 3개월마다 교환하는 이자율스왑의 가치평가를 실행해 보겠습니다. 고정금리는 4%로 가정합니다. 우선 매 기의 현금흐름을 구합니다."
   ]
  },
  {
   "cell_type": "code",
   "execution_count": 302,
   "id": "392b83e7",
   "metadata": {},
   "outputs": [],
   "source": [
    "IRS = pd.DataFrame(index = [\"Float\",\"Fixed\"],columns = np.arange(0.25,6.25,0.25))\n",
    "IRS.loc[\"Fixed\"]=0.04"
   ]
  },
  {
   "cell_type": "code",
   "execution_count": 303,
   "id": "0107458c",
   "metadata": {},
   "outputs": [],
   "source": [
    "for i in range(0,IRS.shape[1]):\n",
    "    start = IRS.columns[i]\n",
    "    ytm =  optimize.fsolve(VBond,0.03,args = (Tr,ZR,start,3,0.5))\n",
    "    IRS.iloc[0,i] = ytm"
   ]
  },
  {
   "cell_type": "markdown",
   "id": "0908d657",
   "metadata": {},
   "source": [
    "그리고 변동금리의 현금흐름에서 고정금리의 현금흐름을 뺀 것을 현재가로 할인한 가치의 합을 구하면 됩니다."
   ]
  },
  {
   "cell_type": "code",
   "execution_count": 304,
   "id": "1f111c80",
   "metadata": {},
   "outputs": [],
   "source": [
    "VIRS = 0\n",
    "for i in range(0,IRS.shape[1]):\n",
    "    Dr = linear_interpolation(Tr,ZR,(i+1)*0.25)\n",
    "    VIRS += 10000*(IRS.iloc[0,i]-IRS.iloc[1,i])*np.exp(-(i+1)*0.25*Dr)"
   ]
  },
  {
   "cell_type": "code",
   "execution_count": 305,
   "id": "fbc683df",
   "metadata": {},
   "outputs": [
    {
     "data": {
      "text/plain": [
       "-777.736813533069"
      ]
     },
     "execution_count": 305,
     "metadata": {},
     "output_type": "execute_result"
    }
   ],
   "source": [
    "VIRS"
   ]
  },
  {
   "cell_type": "markdown",
   "id": "362e1028",
   "metadata": {},
   "source": [
    "## 2. Bond Forward"
   ]
  },
  {
   "cell_type": "markdown",
   "id": "e5ac7b0a",
   "metadata": {},
   "source": [
    "본드 포워드는 말 그대로 채권 선도계약입니다. 미리 정해진 가격에 채권을 거래하기로 약정하는 장외파생상품입니다. 장기채를 매도자가 구입하고, 보유하고 있다가 약정한 시기에 약정한 가격으로 매수자에게 장기채를 매도합니다. 매도자 관점에서 현금흐름은 다음과 같습니다.\n",
    "<br>\n",
    "\n",
    "채권 발행일 : -(채권가격)\n",
    "\n",
    "<br>\n",
    "\n",
    "채권 발행일 ~ 채권선도 결제시점 : +(이표)\n",
    "\n",
    "<br>\n",
    "\n",
    "채권선도 결제시점 : +(선도가)\n",
    "\n",
    "<br>\n",
    "\n",
    "이 중 본드 포워드의 가치평가에 사용되는 현금흐름은 선도가입니다. 채권선도 결제시점에서의 채권의 가격과 선도가의 차이를 현재가로 할인한 것이 본드 포워드의 가치가 됩니다."
   ]
  },
  {
   "cell_type": "code",
   "execution_count": 308,
   "id": "8385f86a",
   "metadata": {},
   "outputs": [],
   "source": [
    "def BondForward(ForwardT,Forward,ZR,Mat,coupon,couponT):\n",
    "    BondPrice = 0\n",
    "    CFN = int((Mat-ForwardT)/couponT)\n",
    "    for i in range(0,CFN):\n",
    "        FR = Calc_ForwardRate(Tr,ZR,ForwardT,couponT*(i+1))\n",
    "        BondPrice+=coupon*couponT*(FR*(couponT*(i+1)))\n",
    "    BondPrice += np.exp(FR*(Mat-ForwardT))\n",
    "    Profit = ForwardT-BondPrice\n",
    "    ZR = linear_interpolation(Tr,ZR,ForwardT)\n",
    "    return Profit*np.exp(-ZR*ForwardT)"
   ]
  },
  {
   "cell_type": "code",
   "execution_count": 310,
   "id": "9dbb0c23",
   "metadata": {},
   "outputs": [
    {
     "data": {
      "text/plain": [
       "1.6779422340142127"
      ]
     },
     "execution_count": 310,
     "metadata": {},
     "output_type": "execute_result"
    }
   ],
   "source": [
    "BondForward(5,0.8,ZR,30,0.03,0.5)"
   ]
  },
  {
   "cell_type": "markdown",
   "id": "bf2e94a7",
   "metadata": {},
   "source": [
    "## 3. PV01 and Interest Rate Hedging"
   ]
  },
  {
   "cell_type": "markdown",
   "id": "c819c134",
   "metadata": {},
   "source": [
    "이자율 파생상품의 운용을 위해 알아야 하는 민감도는 PV01입니다. PV01은 한 이자율 파생상품의 기준금리가 한 tenor에서만 변했을 때, 파생상품의 가치가 변하는 민감도를 의미합니다. 즉,\n",
    "$$PV01(t_1) = {{V(r_1) - V(r_2)}\\over 2dr}$$\n",
    "$s.t$\n",
    "$r_1 = \\begin{cases} \n",
    "\t\tr(t) & \\text{if }t\\neq t_1 \\\\ \n",
    "        r(t)+dr & \\text{if }t = t_1 \n",
    "     \\end{cases}$        $r_2 = \\begin{cases} \n",
    "\t\tr(t) & \\text{if }t\\neq t_1 \\\\ \n",
    "        r(t)-dr & \\text{if }t = t_1 \n",
    "     \\end{cases}$<br>\n",
    "     \n",
    "주식 파생상품에서 델타를 0으로 만들며 헤지 트레이딩을 했던 것처럼 금리 파생상품은 이 PV01을 0으로 만들며 헤지 트레이딩을 합니다. 하지만 PV01은 테너마다 존재하기에 무한히 생성이 가능하고, 따라서 0으로 만들 PV01을 지정해야 한다는 특징이 있으며, 헤징을 위해 채권을 매수/매도해야 하는데 이표채도 테너마다 PV01이 존재하기에 원하는 한 개의 PV01만 조작할 수 없다는 것이 또 하나의 어려운 점입니다."
   ]
  },
  {
   "cell_type": "code",
   "execution_count": 323,
   "id": "dcc85948",
   "metadata": {},
   "outputs": [],
   "source": [
    "def BFPV01(ForwardT,Forward,ZR,Mat,coupon,couponT,index):\n",
    "    ZR1 = ZR.copy()\n",
    "    ZR2 = ZR.copy()\n",
    "    ZR1[index] += 0.0001\n",
    "    ZR2[index] -= 0.0001\n",
    "    BF1 = BondForward(ForwardT,Forward,ZR1,Mat,coupon,couponT)\n",
    "    BF2 = BondForward(ForwardT,Forward,ZR2,Mat,coupon,couponT)\n",
    "    return (BF1-BF2)/0.0002"
   ]
  },
  {
   "cell_type": "code",
   "execution_count": 326,
   "id": "72bffcbb",
   "metadata": {},
   "outputs": [
    {
     "name": "stdout",
     "output_type": "stream",
     "text": [
      "0.25\n",
      "0.0\n",
      "0.5\n",
      "0.0\n",
      "0.75\n",
      "0.0\n",
      "1.0\n",
      "0.0\n",
      "1.5\n",
      "0.0\n",
      "2.0\n",
      "0.0\n",
      "2.5\n",
      "0.0\n",
      "3.0\n",
      "0.0\n",
      "4.0\n",
      "0.0\n",
      "5.0\n",
      "19.9323145337138\n",
      "7.0\n",
      "-0.5170462442927182\n",
      "10.0\n",
      "-1.327727183040306\n",
      "15.0\n",
      "-2.634039808797617\n",
      "20.0\n",
      "-6.907472028884198\n",
      "30.0\n",
      "-148.7815388224134\n",
      "50.0\n",
      "0.0\n"
     ]
    }
   ],
   "source": [
    "for i in range(0,len(ZR)):\n",
    "    print(Tr[i])\n",
    "    print(BFPV01(5,0.8,ZR,30,0.03,0.5,i))"
   ]
  },
  {
   "cell_type": "markdown",
   "id": "385c6058",
   "metadata": {},
   "source": [
    "테너별 PV01을 보면, 본드포워드의 가치는 채권선도 결제시점~만기 의 금리에 대한 함수인 것을 확인할 수 있습니다."
   ]
  }
 ],
 "metadata": {
  "kernelspec": {
   "display_name": "Python 3 (ipykernel)",
   "language": "python",
   "name": "python3"
  },
  "language_info": {
   "codemirror_mode": {
    "name": "ipython",
    "version": 3
   },
   "file_extension": ".py",
   "mimetype": "text/x-python",
   "name": "python",
   "nbconvert_exporter": "python",
   "pygments_lexer": "ipython3",
   "version": "3.11.5"
  }
 },
 "nbformat": 4,
 "nbformat_minor": 5
}
