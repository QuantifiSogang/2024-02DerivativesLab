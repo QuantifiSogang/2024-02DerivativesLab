{
 "cells": [
  {
   "cell_type": "markdown",
   "id": "c11f502c",
   "metadata": {},
   "source": [
    "# 1. Term Structure, Interest Rate Swap\n",
    "\n",
    "금융공학을 공부하다 보면 $r$, 즉 이자율이라는 변수를 자주 볼 수 있습니다. <br>\n",
    "프로젝트를 현실에 적용하기 위해서는 이 이자율이라는 변수도 현실에서 적절하게 선택해야 합니다.<br>\n",
    "하지만, 현실에는 이자율이라 불리는 지표가 너무 많기에 어떤 변수를 선택해야 하는지 알기 어렵습니다.<br>\n",
    "첫 세션에서는 금융공학에 쓰이는 이자율을 구하는 방법과 제일 간단한 이자율 파생상품에 대해 공부합니다. "
   ]
  },
  {
   "cell_type": "code",
   "execution_count": 1,
   "id": "b8eab797",
   "metadata": {},
   "outputs": [],
   "source": [
    "import pandas as pd\n",
    "import numpy as np\n",
    "from scipy import optimize"
   ]
  },
  {
   "cell_type": "markdown",
   "id": "7c43169e",
   "metadata": {},
   "source": [
    "## 1-1. Interest Rate\n",
    "\n",
    "금융공학에서 이자율은 보통 미래 시점에서의 현금 흐름을 현재가치화하는데 사용됩니다.<br>\n",
    "여러 방법이 있지만 보통 $e^{rt}$를 곱해서 사용합니다.<br>\n",
    "이때 유의해야 할 점은, 할인이나 할증 과정에서 이자가 발생하지 않는다는 것입니다.<br>\n",
    "즉, 적절한 할인이나 할증을 위해서는 이자가 발생하지 않을 경우의 이자율이 필요하다는 것입니다.<br>\n",
    "이 때, 이자가 발생하지 않는 채권의 이자율을 현물이자율(Spot Rate)라고 부르며, 이는 앞으로 설명할 모든 이자율과 금융공학의 기본이 됩니다.<br>\n",
    "이제 이 현물이자율은 어떻게 도출하며, 금융공학에 사용되는 다른 금리는 어떤 것이 있는지 공부하겠습니다."
   ]
  },
  {
   "cell_type": "markdown",
   "id": "44e75994",
   "metadata": {},
   "source": [
    "## 1-2 이자율의 종류\n",
    "\n",
    "우선 금융공학에서 사용되는 여러 가지 이자율의 종류와 정의를 알아보겠습니다. <br>\n",
    "\n",
    "현물 이자율 $r(t,T)$ : 무이표 채권의 이자율을 말하며, $(t,T)$의 기간 동안 적용되는 연속복리 만기수익률을 의미합니다\n",
    "\n",
    "선도이자율 $F(t,T,S)$ : $t$ 시점에서 예측하는 $(T,S)$의 기간 동안 적용되는 수익률을 의미합니다.\n",
    "\n",
    "단기 이자율 $r(t)$ : $(t,t+dt)$의 아주 짧은 기간 동안 적용되는 수익률을 의미합니다.\n",
    "\n",
    "이 중 할인에 사용되는 금리는 현물 이자율이므로, 현재 채권 데이터로 현물 이자율 곡선을 그리는 방법을 소개하겠습니다."
   ]
  },
  {
   "cell_type": "markdown",
   "id": "0816664c",
   "metadata": {},
   "source": [
    "## 1-3 Bootstrapping"
   ]
  },
  {
   "cell_type": "markdown",
   "id": "87b53f4d",
   "metadata": {},
   "source": [
    "단기 채권은 보통 쿠폰이 없는 할인채로 발행되기에, 그대로 혹은 약간의 연산만 거치면 바로 현물 이자율을 구할 수 있습니다.<br>\n",
    "하지만 장기 채권은 쿠폰이 있는 이표채로 발행되기에 해당 채권의 수익률은 할인에 적합하지 않습니다. <br>\n",
    "채권 데이터에 이러한 이표채가 포함되어 있는 경우 부트스트래핑이라는 기법을 사용합니다.<br>\n",
    "부트스트래핑의 과정은 다음과 같습니다. <br>\n",
    "\n",
    "1. 할인채나 복리채는 그대로 현물 이자율로 사용한다.\n",
    "\n",
    "2. 이표채의 경우 쿠폰 각각을 하나의 복리채로 설정하고, 복리채 전체의 합이 채권의 가격이 되는 만기별 현물 이자율을 계산한다.\n",
    "\n",
    "### Example\n",
    "\n",
    "한 경제주체가 발행한 채권이 다음과 같다고 가정합니다.\n",
    "\n",
    "만기 6개월, 금리 2%의 복리채 <br>\n",
    "만기 1년, 금리 2.5%의 복리채 <br>\n",
    "만기 2년, 이표 주기 1년, 표면금리 3%의 이표채 <br>\n",
    "만기 3년, 이표 주기 1년, 표면금리 3.5%의 이표채 <br>\n",
    "이표채의 가격은 모두 액면가와 같음\n",
    "\n",
    "우선 처음 2개의 복리채의 수익률을 적용합니다."
   ]
  },
  {
   "cell_type": "code",
   "execution_count": 2,
   "id": "e303042d",
   "metadata": {},
   "outputs": [],
   "source": [
    "ZR = pd.DataFrame(index = [0,0.5,1,2,3], columns = [\"R\"])\n",
    "ZR.loc[0,'R'] = 0\n",
    "ZR.loc[0.5,'R'] = 0.02\n",
    "ZR.loc[1,'R'] = 0.025"
   ]
  },
  {
   "cell_type": "markdown",
   "id": "d55bc498",
   "metadata": {},
   "source": [
    "만기 2년짜리 이표채는 발행 1년 뒤 원금의 3%, 2년 뒤 원금과 원금의 3% 총 원금의 103%의 현금흐름이 발생합니다.<br>\n",
    "이 이표채의 가격이 액면가와 같으므로, 액면가를 10000원으로 설정하고 각 현금흐름을 하나의 복리채로 설정하면 다음 방정식이 나옵니다. <br>\n",
    "$$10000 = {300\\over{1+R(1)}} + {10300 \\over{(1+R(2))}^2}$$\n",
    "$R(1) = 0.02$를 대입하면 다음과 같은 식이 나옵니다.\n",
    "$$10000 = {300 \\over 1.02} + {10300 \\over {(1+R(2))}^2} = 294.12 + {10300 \\over {(1+R(2))}^2}$$\n",
    "이 방정식을 풀면 2년 만기 현물 이자율을 구할 수 있습니다.\n",
    "$$R(2) = 0.0302$$\n",
    "만기 3년짜리 이표채에도 같은 과정을 반복하면 됩니다.\n",
    "$$10000 = {350\\over{1+R(1)}} + {350 \\over{(1+R(2))}^2} + {10350 \\over{(1+R(3))}^3}$$\n",
    "정리하면\n",
    "$$10000 = 343.14 + 329.78 + {10350 \\over{(1+R(3))}^3}$$\n",
    "$$R(3) = 0.0353$$\n",
    "를 얻을 수 있습니다."
   ]
  },
  {
   "cell_type": "code",
   "execution_count": 3,
   "id": "e30bbb01",
   "metadata": {},
   "outputs": [
    {
     "data": {
      "text/plain": [
       "<Axes: >"
      ]
     },
     "execution_count": 3,
     "metadata": {},
     "output_type": "execute_result"
    },
    {
     "data": {
      "image/png": "[encoded data removed]",
      "text/plain": [
       "<Figure size 640x480 with 1 Axes>"
      ]
     },
     "metadata": {},
     "output_type": "display_data"
    }
   ],
   "source": [
    "ZR.loc[2,'R'] = 0.0302\n",
    "ZR.loc[3,'R'] = 0.0353\n",
    "ZR.plot()"
   ]
  },
  {
   "cell_type": "markdown",
   "id": "2c02e540",
   "metadata": {},
   "source": [
    "## 1-4 채권 가격 데이터로부터 현물 이자율 도출"
   ]
  },
  {
   "cell_type": "markdown",
   "id": "817ec5df",
   "metadata": {},
   "source": [
    "이처럼 부트스트래핑을 이용하면 만기별 현물 이자율을 도출할 수 있습니다. 하지만 현실의 채권은 이렇게 현금흐름의 시기별로 만기가 알맞게 존재하지 않기 때문에 선형보간이나, 스플라인 등을 적절히 이용해야 합니다. 국고채 데이터와 보간을 이용해서 실제 현물 이자율을 도출해 보겠습니다. 지금부터 할인시에는 연속 이자율을 사용합니다."
   ]
  },
  {
   "cell_type": "code",
   "execution_count": 4,
   "id": "02454ae9",
   "metadata": {},
   "outputs": [],
   "source": [
    "Bond = pd.read_excel(\"국채가격.xlsx\")"
   ]
  },
  {
   "cell_type": "code",
   "execution_count": 5,
   "id": "361dd46d",
   "metadata": {},
   "outputs": [
    {
     "data": {
      "text/html": [
       "<div>\n",
       "<style scoped>\n",
       "    .dataframe tbody tr th:only-of-type {\n",
       "        vertical-align: middle;\n",
       "    }\n",
       "\n",
       "    .dataframe tbody tr th {\n",
       "        vertical-align: top;\n",
       "    }\n",
       "\n",
       "    .dataframe thead th {\n",
       "        text-align: right;\n",
       "    }\n",
       "</style>\n",
       "<table border=\"1\" class=\"dataframe\">\n",
       "  <thead>\n",
       "    <tr style=\"text-align: right;\">\n",
       "      <th></th>\n",
       "      <th>발행일</th>\n",
       "      <th>만기일</th>\n",
       "      <th>잔여만기</th>\n",
       "      <th>표면이율</th>\n",
       "      <th>주기</th>\n",
       "      <th>가격</th>\n",
       "    </tr>\n",
       "  </thead>\n",
       "  <tbody>\n",
       "    <tr>\n",
       "      <th>0</th>\n",
       "      <td>2024-09-10</td>\n",
       "      <td>2024-12-10</td>\n",
       "      <td>0.25</td>\n",
       "      <td>0.00000</td>\n",
       "      <td>0.0</td>\n",
       "      <td>9913</td>\n",
       "    </tr>\n",
       "    <tr>\n",
       "      <th>1</th>\n",
       "      <td>2020-09-10</td>\n",
       "      <td>2025-09-10</td>\n",
       "      <td>1.00</td>\n",
       "      <td>0.01125</td>\n",
       "      <td>0.5</td>\n",
       "      <td>9873</td>\n",
       "    </tr>\n",
       "    <tr>\n",
       "      <th>2</th>\n",
       "      <td>2021-03-10</td>\n",
       "      <td>2026-03-10</td>\n",
       "      <td>1.50</td>\n",
       "      <td>0.01250</td>\n",
       "      <td>0.5</td>\n",
       "      <td>9744</td>\n",
       "    </tr>\n",
       "    <tr>\n",
       "      <th>3</th>\n",
       "      <td>2019-12-10</td>\n",
       "      <td>2029-12-10</td>\n",
       "      <td>5.25</td>\n",
       "      <td>0.01375</td>\n",
       "      <td>0.5</td>\n",
       "      <td>9254</td>\n",
       "    </tr>\n",
       "    <tr>\n",
       "      <th>4</th>\n",
       "      <td>2020-09-10</td>\n",
       "      <td>2040-09-10</td>\n",
       "      <td>16.00</td>\n",
       "      <td>0.01500</td>\n",
       "      <td>0.5</td>\n",
       "      <td>8085</td>\n",
       "    </tr>\n",
       "    <tr>\n",
       "      <th>5</th>\n",
       "      <td>2016-03-10</td>\n",
       "      <td>2046-03-10</td>\n",
       "      <td>21.50</td>\n",
       "      <td>0.02000</td>\n",
       "      <td>0.5</td>\n",
       "      <td>8252</td>\n",
       "    </tr>\n",
       "    <tr>\n",
       "      <th>6</th>\n",
       "      <td>2022-03-10</td>\n",
       "      <td>2027-03-10</td>\n",
       "      <td>2.50</td>\n",
       "      <td>0.02375</td>\n",
       "      <td>0.5</td>\n",
       "      <td>9863</td>\n",
       "    </tr>\n",
       "    <tr>\n",
       "      <th>7</th>\n",
       "      <td>2022-03-10</td>\n",
       "      <td>2052-03-10</td>\n",
       "      <td>27.50</td>\n",
       "      <td>0.02500</td>\n",
       "      <td>0.5</td>\n",
       "      <td>9398</td>\n",
       "    </tr>\n",
       "    <tr>\n",
       "      <th>8</th>\n",
       "      <td>2022-09-10</td>\n",
       "      <td>2052-09-10</td>\n",
       "      <td>28.00</td>\n",
       "      <td>0.03125</td>\n",
       "      <td>0.5</td>\n",
       "      <td>10379</td>\n",
       "    </tr>\n",
       "    <tr>\n",
       "      <th>9</th>\n",
       "      <td>2023-06-10</td>\n",
       "      <td>2033-06-10</td>\n",
       "      <td>8.75</td>\n",
       "      <td>0.03250</td>\n",
       "      <td>0.5</td>\n",
       "      <td>10220</td>\n",
       "    </tr>\n",
       "    <tr>\n",
       "      <th>10</th>\n",
       "      <td>2013-12-10</td>\n",
       "      <td>2033-12-10</td>\n",
       "      <td>9.25</td>\n",
       "      <td>0.03750</td>\n",
       "      <td>0.5</td>\n",
       "      <td>10659</td>\n",
       "    </tr>\n",
       "    <tr>\n",
       "      <th>11</th>\n",
       "      <td>2010-12-10</td>\n",
       "      <td>2030-12-10</td>\n",
       "      <td>6.25</td>\n",
       "      <td>0.04750</td>\n",
       "      <td>0.5</td>\n",
       "      <td>11357</td>\n",
       "    </tr>\n",
       "  </tbody>\n",
       "</table>\n",
       "</div>"
      ],
      "text/plain": [
       "          발행일        만기일   잔여만기     표면이율   주기     가격\n",
       "0  2024-09-10 2024-12-10   0.25  0.00000  0.0   9913\n",
       "1  2020-09-10 2025-09-10   1.00  0.01125  0.5   9873\n",
       "2  2021-03-10 2026-03-10   1.50  0.01250  0.5   9744\n",
       "3  2019-12-10 2029-12-10   5.25  0.01375  0.5   9254\n",
       "4  2020-09-10 2040-09-10  16.00  0.01500  0.5   8085\n",
       "5  2016-03-10 2046-03-10  21.50  0.02000  0.5   8252\n",
       "6  2022-03-10 2027-03-10   2.50  0.02375  0.5   9863\n",
       "7  2022-03-10 2052-03-10  27.50  0.02500  0.5   9398\n",
       "8  2022-09-10 2052-09-10  28.00  0.03125  0.5  10379\n",
       "9  2023-06-10 2033-06-10   8.75  0.03250  0.5  10220\n",
       "10 2013-12-10 2033-12-10   9.25  0.03750  0.5  10659\n",
       "11 2010-12-10 2030-12-10   6.25  0.04750  0.5  11357"
      ]
     },
     "execution_count": 5,
     "metadata": {},
     "output_type": "execute_result"
    }
   ],
   "source": [
    "Bond"
   ]
  },
  {
   "cell_type": "markdown",
   "id": "44f971a5",
   "metadata": {},
   "source": [
    "이표는 모두 3,6,9,12월에 있으므로 현물이자율을 0.25년 단위로 계산합니다.\n",
    "우선 기준금리라고 불리는 91일 할인채 금리가 3.5%니 0.25년 현물이자율은 0.035입니다.\n",
    "그리고 채권들을 만기가 짧은 순서대로 나열합니다."
   ]
  },
  {
   "cell_type": "code",
   "execution_count": 6,
   "id": "f72954d5",
   "metadata": {},
   "outputs": [],
   "source": [
    "ZRB = pd.DataFrame(columns = ['R(t)'], index = range(1,113))\n",
    "ZRB.index/=4\n",
    "ZRB.iloc[0,0] = 0.035"
   ]
  },
  {
   "cell_type": "code",
   "execution_count": 7,
   "id": "0dc6a78f",
   "metadata": {},
   "outputs": [],
   "source": [
    "Bond = Bond.sort_values(by = [\"잔여만기\"])"
   ]
  },
  {
   "cell_type": "code",
   "execution_count": 8,
   "id": "ec688bee",
   "metadata": {},
   "outputs": [
    {
     "data": {
      "text/html": [
       "<div>\n",
       "<style scoped>\n",
       "    .dataframe tbody tr th:only-of-type {\n",
       "        vertical-align: middle;\n",
       "    }\n",
       "\n",
       "    .dataframe tbody tr th {\n",
       "        vertical-align: top;\n",
       "    }\n",
       "\n",
       "    .dataframe thead th {\n",
       "        text-align: right;\n",
       "    }\n",
       "</style>\n",
       "<table border=\"1\" class=\"dataframe\">\n",
       "  <thead>\n",
       "    <tr style=\"text-align: right;\">\n",
       "      <th></th>\n",
       "      <th>발행일</th>\n",
       "      <th>만기일</th>\n",
       "      <th>잔여만기</th>\n",
       "      <th>표면이율</th>\n",
       "      <th>주기</th>\n",
       "      <th>가격</th>\n",
       "    </tr>\n",
       "  </thead>\n",
       "  <tbody>\n",
       "    <tr>\n",
       "      <th>0</th>\n",
       "      <td>2024-09-10</td>\n",
       "      <td>2024-12-10</td>\n",
       "      <td>0.25</td>\n",
       "      <td>0.00000</td>\n",
       "      <td>0.0</td>\n",
       "      <td>9913</td>\n",
       "    </tr>\n",
       "    <tr>\n",
       "      <th>1</th>\n",
       "      <td>2020-09-10</td>\n",
       "      <td>2025-09-10</td>\n",
       "      <td>1.00</td>\n",
       "      <td>0.01125</td>\n",
       "      <td>0.5</td>\n",
       "      <td>9873</td>\n",
       "    </tr>\n",
       "    <tr>\n",
       "      <th>2</th>\n",
       "      <td>2021-03-10</td>\n",
       "      <td>2026-03-10</td>\n",
       "      <td>1.50</td>\n",
       "      <td>0.01250</td>\n",
       "      <td>0.5</td>\n",
       "      <td>9744</td>\n",
       "    </tr>\n",
       "    <tr>\n",
       "      <th>6</th>\n",
       "      <td>2022-03-10</td>\n",
       "      <td>2027-03-10</td>\n",
       "      <td>2.50</td>\n",
       "      <td>0.02375</td>\n",
       "      <td>0.5</td>\n",
       "      <td>9863</td>\n",
       "    </tr>\n",
       "    <tr>\n",
       "      <th>3</th>\n",
       "      <td>2019-12-10</td>\n",
       "      <td>2029-12-10</td>\n",
       "      <td>5.25</td>\n",
       "      <td>0.01375</td>\n",
       "      <td>0.5</td>\n",
       "      <td>9254</td>\n",
       "    </tr>\n",
       "    <tr>\n",
       "      <th>11</th>\n",
       "      <td>2010-12-10</td>\n",
       "      <td>2030-12-10</td>\n",
       "      <td>6.25</td>\n",
       "      <td>0.04750</td>\n",
       "      <td>0.5</td>\n",
       "      <td>11357</td>\n",
       "    </tr>\n",
       "    <tr>\n",
       "      <th>9</th>\n",
       "      <td>2023-06-10</td>\n",
       "      <td>2033-06-10</td>\n",
       "      <td>8.75</td>\n",
       "      <td>0.03250</td>\n",
       "      <td>0.5</td>\n",
       "      <td>10220</td>\n",
       "    </tr>\n",
       "    <tr>\n",
       "      <th>10</th>\n",
       "      <td>2013-12-10</td>\n",
       "      <td>2033-12-10</td>\n",
       "      <td>9.25</td>\n",
       "      <td>0.03750</td>\n",
       "      <td>0.5</td>\n",
       "      <td>10659</td>\n",
       "    </tr>\n",
       "    <tr>\n",
       "      <th>4</th>\n",
       "      <td>2020-09-10</td>\n",
       "      <td>2040-09-10</td>\n",
       "      <td>16.00</td>\n",
       "      <td>0.01500</td>\n",
       "      <td>0.5</td>\n",
       "      <td>8085</td>\n",
       "    </tr>\n",
       "    <tr>\n",
       "      <th>5</th>\n",
       "      <td>2016-03-10</td>\n",
       "      <td>2046-03-10</td>\n",
       "      <td>21.50</td>\n",
       "      <td>0.02000</td>\n",
       "      <td>0.5</td>\n",
       "      <td>8252</td>\n",
       "    </tr>\n",
       "    <tr>\n",
       "      <th>7</th>\n",
       "      <td>2022-03-10</td>\n",
       "      <td>2052-03-10</td>\n",
       "      <td>27.50</td>\n",
       "      <td>0.02500</td>\n",
       "      <td>0.5</td>\n",
       "      <td>9398</td>\n",
       "    </tr>\n",
       "    <tr>\n",
       "      <th>8</th>\n",
       "      <td>2022-09-10</td>\n",
       "      <td>2052-09-10</td>\n",
       "      <td>28.00</td>\n",
       "      <td>0.03125</td>\n",
       "      <td>0.5</td>\n",
       "      <td>10379</td>\n",
       "    </tr>\n",
       "  </tbody>\n",
       "</table>\n",
       "</div>"
      ],
      "text/plain": [
       "          발행일        만기일   잔여만기     표면이율   주기     가격\n",
       "0  2024-09-10 2024-12-10   0.25  0.00000  0.0   9913\n",
       "1  2020-09-10 2025-09-10   1.00  0.01125  0.5   9873\n",
       "2  2021-03-10 2026-03-10   1.50  0.01250  0.5   9744\n",
       "6  2022-03-10 2027-03-10   2.50  0.02375  0.5   9863\n",
       "3  2019-12-10 2029-12-10   5.25  0.01375  0.5   9254\n",
       "11 2010-12-10 2030-12-10   6.25  0.04750  0.5  11357\n",
       "9  2023-06-10 2033-06-10   8.75  0.03250  0.5  10220\n",
       "10 2013-12-10 2033-12-10   9.25  0.03750  0.5  10659\n",
       "4  2020-09-10 2040-09-10  16.00  0.01500  0.5   8085\n",
       "5  2016-03-10 2046-03-10  21.50  0.02000  0.5   8252\n",
       "7  2022-03-10 2052-03-10  27.50  0.02500  0.5   9398\n",
       "8  2022-09-10 2052-09-10  28.00  0.03125  0.5  10379"
      ]
     },
     "execution_count": 8,
     "metadata": {},
     "output_type": "execute_result"
    }
   ],
   "source": [
    "Bond"
   ]
  },
  {
   "cell_type": "markdown",
   "id": "87d98d46",
   "metadata": {},
   "source": [
    "이제 현물 이자율을 구하기 위해, 주어진 현물이자율과 만기, 표면이율, 채권의 만기의 현물이자율이 주어지면 중간에 해당하는 만기의 현물이자율은 선형 보간으로 처리해 그 조건 하의 채권가격을 구하는 함수를 만듭니다."
   ]
  },
  {
   "cell_type": "code",
   "execution_count": 9,
   "id": "bffc1df9",
   "metadata": {},
   "outputs": [],
   "source": [
    "def Maturityzerotoprice(maturityspot,NA,ZR,known,maturity,coupon,firstcoupon,market):\n",
    "    Zero = ZRB.loc[0.25:maturity,:].copy()\n",
    "    Zero.loc[maturity,'R(t)'] = maturityspot\n",
    "    price = 0\n",
    "    for i in range(1,int((maturity-known)*4)+1):\n",
    "        Zero.loc[known+0.25*i,'R(t)'] = ((0.25*i)*maturityspot+(maturity-known-0.25*i)*Zero.loc[known,'R(t)'])/(maturity-known)\n",
    "    for j in range(1,int(maturity*2)):\n",
    "        price += NA*coupon*0.5*np.exp(-(firstcoupon+0.5*j)*Zero.loc[firstcoupon+0.5*j,'R(t)'])\n",
    "    price += NA*np.exp(-maturityspot*maturity)\n",
    "    return price-market"
   ]
  },
  {
   "cell_type": "markdown",
   "id": "1d136357",
   "metadata": {},
   "source": [
    "이제 이 함수의 함숫값과 채권의 가격을 같게 만드는 현물이자율이 해당 채권의 만기에서의 현물이자율입니다,"
   ]
  },
  {
   "cell_type": "code",
   "execution_count": 10,
   "id": "41f8c25b",
   "metadata": {},
   "outputs": [],
   "source": [
    "known = 0.25\n",
    "for i in range(1,Bond.shape[0]):\n",
    "    NA = 10000\n",
    "    maturity = Bond.iloc[i,2]\n",
    "    coupon = Bond.iloc[i,3]\n",
    "    firstcoupon = Bond.iloc[i,2]%0.5\n",
    "    market = Bond.iloc[i,5]\n",
    "    r = optimize.fsolve(Maturityzerotoprice,0.03,args = (10000,ZRB,known,maturity,coupon,firstcoupon,market))[0]\n",
    "    ZRB.loc[maturity,'R(t)'] = r\n",
    "    ZRB[\"R(t)\"][known:maturity]=  pd.to_numeric(ZRB[\"R(t)\"][known:maturity]).interpolate(method='linear')\n",
    "    known = maturity\n"
   ]
  },
  {
   "cell_type": "markdown",
   "id": "d208792c",
   "metadata": {},
   "source": [
    "이렇게 현재 시점에서 현물이자율을 계산했습니다."
   ]
  },
  {
   "cell_type": "code",
   "execution_count": 11,
   "id": "1888f0f5",
   "metadata": {},
   "outputs": [
    {
     "data": {
      "text/plain": [
       "<Axes: >"
      ]
     },
     "execution_count": 11,
     "metadata": {},
     "output_type": "execute_result"
    },
    {
     "data": {
      "image/png": "[encoded data removed]",
      "text/plain": [
       "<Figure size 640x480 with 1 Axes>"
      ]
     },
     "metadata": {},
     "output_type": "display_data"
    }
   ],
   "source": [
    "ZRB.plot()"
   ]
  },
  {
   "cell_type": "markdown",
   "id": "2d40f669",
   "metadata": {},
   "source": [
    "## 1-5 이자율 스왑"
   ]
  },
  {
   "cell_type": "markdown",
   "id": "97e9357f",
   "metadata": {},
   "source": [
    "이제 이런 현물 이자율을 이용한 가장 간단한 파생상품인 이자율 스왑에 대해 알아보겠습니다. <br>\n",
    "이자율 스왑은 변동금리와 고정금리를 교환하는 계약을 말합니다. <br>\n",
    "이자율 스왑의 가격결정은 고정금리를 결정하는 것인데, 변동금리 측면의 현금흐름의 현재가치의 총합과 고정금리 측면에서의 현금흐름의 현재가치의 총합이 같게 되는 고정금리를 정하면 됩니다. <br>\n",
    "변동금리 측면의 현금흐름(Float Leg)를 구하는 것은 미래의 특정 기간 동안 적용되는 금리를 현재 시점에서 계산하는 것으로, 이를 달리 말하면 특정 기간 동안의 선도금리를 구하는 것입니다. 이자율 스왑은 사전에 결정된 주기마다 한 번 씩의 이자를 교환하는 계약이므로, 연속복리가 아닌 단리 선도금리를 구하면 됩니다.<br>\n",
    "선도금리를 구하는 법은 무차익 거래 라는 원칙을 이용하는 것입니다. 두 투자자가 10000원을 서로 다른 방법으로 투자하려 합니다. A라는 투자자는 만기 2년의 복리채를 구입하고, B라는 투자자는 만기 1년의 복리채를 구입하고 해당 채권의 만기 지급액 전체에 대해 지금으로부터 1년 후 시점부터 1년동안 적용되는 단리 선도금리 계약을 체결했다고 가정합니다. 이 두 거래를 같은 상대방과 체결했다면, 무차익 거래의 원칙에 따라 두 거래의 수익률은 같아야 합니다. A가 구입한 채권의 수익률은 연 4%이고 B가 구입한 채권의 수익률이 연 3%라고 설정합니다, 그러면 2년 후 A가 받을 금액은 다음과 같습니다.<br>\n",
    "$${CF}_A = 10000 \\times (1.04)^{2} = 10816$$\n",
    "B가 체결한 선도금리 계약의 금리는 $f(0,1,2)$이므로, 2년 후 B가 받을 금액은 다음과 같습니다.<br>\n",
    "$${CF}_B = 10000 \\times (1.03) \\times (1+f(0,1,2))$$\n",
    "이 금액이 A가 받을 금액인 10816원과 같아야 하므로 $f(0,1,2)$는 다음과 같습니다.<br>\n",
    "$$(1+f(0,1,2)) = {{10816}\\over{10000\\times(1.03)}} \\rightarrow f(0,1,2) = 0.05009...$$\n",
    "이러한 논리를 이용해서 현물 이자율 곡선이 주어졌을 때, 각 기간별 선도금리를 구할 수 있습니다. 현물 이자율 곡선으로부터 기간별 할인계수를 구하고, 다음 식에 대입하여 단리 선도금리를 구할 수 있습니다.\n",
    "$$f(0,T,S) = {{{{e^{-R(T)T}}\\over{e^{-R(S)S}}}-1}\\over{S-T}}$$\n",
    "이제 이를 활용하여 Float Leg의 현재가치를 구하면 다음과 같습니다.\n",
    "$$Float Leg = \\sum {e^{-R(t_{n})t_{n}}}\\times f(0,t_{n-1},t_{n})$$\n",
    "이때, $t_n , t_{n+1}$은 각각 n번째, n+1번째 이자지급일을 의미하며 단위는 년입니다. 그리고 $t_0 = 0$입니다.<br>\n",
    "이자 지급 주기를 3개월로 설정하고, 10년 만기 이자율 스왑의 가격결정을 실행해 보겠습니다. 우선 현물 이자율 곡선과 두 시점이 주어지면 시점 사이 기간 동안 적용되는 단리 선도금리를 구하는 함수를 만듭니다. 이때, 곡선에서 주어지지 않은 만기의 이자율은 선형보간을 이용하여 계산합니다. 그를 위해 선형보간을 실행하는 함수도 제작합니다."
   ]
  },
  {
   "cell_type": "code",
   "execution_count": 12,
   "id": "ac21b0b3",
   "metadata": {},
   "outputs": [],
   "source": [
    "'''x가 xa와 xb 사이에 있고, f(xa) = ya, f(xb)=yb를 알 경우 f(x)를 구하는 함수'''\n",
    "def linear(xa,xb,ya,yb,x): \n",
    "    if xa==x:\n",
    "        return ya\n",
    "    elif xb==x:\n",
    "        return yb\n",
    "    else:\n",
    "        if xa>xb:\n",
    "            return ((xa-x)*yb+(x-xb)*ya)/(xa-xb)\n",
    "        else:\n",
    "            return ((xb-x)*ya+(x-xa)*yb)/(xb-xa)\n",
    "    \n",
    "'''선도 단기금리를 구하는 함수'''\n",
    "def forward(curveT,curve,T,S):\n",
    "    if (S<T):\n",
    "        return -999\n",
    "    elif (S==T):\n",
    "        return 0\n",
    "    '''선형보간을 이용하여 S와 T 시점에서의 현물이자율과 할인계수를 계산'''\n",
    "    supT = curveT[-1]\n",
    "    infT = curveT[0]\n",
    "    supS = curveT[-1]\n",
    "    infS = curveT[0]\n",
    "    NT = curveT.shape[0]\n",
    "    for i in range(1,NT):\n",
    "        if curveT[i]<=T:\n",
    "            infT = curveT[i]\n",
    "        if curveT[NT-i]>=T:\n",
    "            supT = curveT[NT-i]\n",
    "        if curveT[i]<=S:\n",
    "            infS = curveT[i]\n",
    "        if curveT[NT-i]>=S:\n",
    "            supS = curveT[NT-i]\n",
    "    '''할인계수를 이용해 선도금리를 계산'''\n",
    "    RT = linear(infT,supT,curve.loc[infT][0],curve.loc[supT][0],T)\n",
    "    RS = linear(infS,supS,curve.loc[infS][0],curve.loc[supS][0],S)\n",
    "    f = ((np.exp(-RT*T)/np.exp(-RS*S))-1)/(S-T)\n",
    "    return f"
   ]
  },
  {
   "cell_type": "markdown",
   "id": "d1f1e8ca",
   "metadata": {},
   "source": [
    "시험삼아 11.5년부터 11.8년까지의 선도 단기금리를 계산해 보겠습니다."
   ]
  },
  {
   "cell_type": "code",
   "execution_count": 13,
   "id": "821def53",
   "metadata": {},
   "outputs": [
    {
     "data": {
      "text/plain": [
       "0.033576066135230155"
      ]
     },
     "execution_count": 13,
     "metadata": {},
     "output_type": "execute_result"
    }
   ],
   "source": [
    "forward(ZRB.index,ZRB,11.5,11.8)"
   ]
  },
  {
   "cell_type": "markdown",
   "id": "5c717ea3",
   "metadata": {},
   "source": [
    "이제 이자율스왑의 가격결정을 진행하겠습니다. 현물 이자율은 위에서 구한 것을 사용하고, 만기는 10년, 이자 지급주기는 3개월, 원금은 10000원으로 설정합니다. 우선 이자 지급주기별로 선도금리를 구합니다. 이 때, 제일 처음의 선도금리는 $f(0,0,0.25)$이므로 현물이자율을 그대로 사용하면 됩니다."
   ]
  },
  {
   "cell_type": "code",
   "execution_count": 14,
   "id": "200b5660",
   "metadata": {},
   "outputs": [],
   "source": [
    "NA = 10000\n",
    "IRS = pd.DataFrame(index = range(1,41), columns = [\"forward\",\"float\",\"Discount Factor\"])\n",
    "IRS.index /=4"
   ]
  },
  {
   "cell_type": "code",
   "execution_count": 15,
   "id": "c861f0fc",
   "metadata": {},
   "outputs": [],
   "source": [
    "IRS.iloc[0,0] = ZRB.loc[0.25][0]\n",
    "IRS.iloc[0,1] = ZRB.loc[0.25][0]*NA\n",
    "IRS.iloc[0,2] = np.exp(-ZRB.loc[0.25][0]*0.25)\n",
    "for i in range(1,40):\n",
    "    IRS.iloc[i,0] = forward(ZRB.index,ZRB,i*0.25,(i+1)*0.25)\n",
    "    IRS.iloc[i,2] = np.exp(-ZRB.loc[(i+1)*0.25][0]*0.25*(i+1))\n",
    "    IRS.iloc[i,1] = IRS.iloc[i,0]*NA"
   ]
  },
  {
   "cell_type": "code",
   "execution_count": 16,
   "id": "c64bd19d",
   "metadata": {},
   "outputs": [
    {
     "data": {
      "text/html": [
       "<div>\n",
       "<style scoped>\n",
       "    .dataframe tbody tr th:only-of-type {\n",
       "        vertical-align: middle;\n",
       "    }\n",
       "\n",
       "    .dataframe tbody tr th {\n",
       "        vertical-align: top;\n",
       "    }\n",
       "\n",
       "    .dataframe thead th {\n",
       "        text-align: right;\n",
       "    }\n",
       "</style>\n",
       "<table border=\"1\" class=\"dataframe\">\n",
       "  <thead>\n",
       "    <tr style=\"text-align: right;\">\n",
       "      <th></th>\n",
       "      <th>forward</th>\n",
       "      <th>float</th>\n",
       "      <th>Discount Factor</th>\n",
       "    </tr>\n",
       "  </thead>\n",
       "  <tbody>\n",
       "    <tr>\n",
       "      <th>0.25</th>\n",
       "      <td>0.035</td>\n",
       "      <td>350.0</td>\n",
       "      <td>0.991288</td>\n",
       "    </tr>\n",
       "    <tr>\n",
       "      <th>0.50</th>\n",
       "      <td>0.024013</td>\n",
       "      <td>240.125699</td>\n",
       "      <td>0.985373</td>\n",
       "    </tr>\n",
       "    <tr>\n",
       "      <th>0.75</th>\n",
       "      <td>0.012902</td>\n",
       "      <td>129.023274</td>\n",
       "      <td>0.982205</td>\n",
       "    </tr>\n",
       "    <tr>\n",
       "      <th>1.00</th>\n",
       "      <td>0.001823</td>\n",
       "      <td>18.227601</td>\n",
       "      <td>0.981757</td>\n",
       "    </tr>\n",
       "    <tr>\n",
       "      <th>1.25</th>\n",
       "      <td>0.036938</td>\n",
       "      <td>369.381396</td>\n",
       "      <td>0.972774</td>\n",
       "    </tr>\n",
       "    <tr>\n",
       "      <th>1.50</th>\n",
       "      <td>0.044356</td>\n",
       "      <td>443.557376</td>\n",
       "      <td>0.962105</td>\n",
       "    </tr>\n",
       "    <tr>\n",
       "      <th>1.75</th>\n",
       "      <td>0.023901</td>\n",
       "      <td>239.014319</td>\n",
       "      <td>0.956391</td>\n",
       "    </tr>\n",
       "    <tr>\n",
       "      <th>2.00</th>\n",
       "      <td>0.023349</td>\n",
       "      <td>233.485141</td>\n",
       "      <td>0.95084</td>\n",
       "    </tr>\n",
       "    <tr>\n",
       "      <th>2.25</th>\n",
       "      <td>0.022796</td>\n",
       "      <td>227.956722</td>\n",
       "      <td>0.945452</td>\n",
       "    </tr>\n",
       "    <tr>\n",
       "      <th>2.50</th>\n",
       "      <td>0.022243</td>\n",
       "      <td>222.429063</td>\n",
       "      <td>0.940224</td>\n",
       "    </tr>\n",
       "    <tr>\n",
       "      <th>2.75</th>\n",
       "      <td>0.027127</td>\n",
       "      <td>271.265415</td>\n",
       "      <td>0.933891</td>\n",
       "    </tr>\n",
       "    <tr>\n",
       "      <th>3.00</th>\n",
       "      <td>0.027562</td>\n",
       "      <td>275.622566</td>\n",
       "      <td>0.9275</td>\n",
       "    </tr>\n",
       "    <tr>\n",
       "      <th>3.25</th>\n",
       "      <td>0.027998</td>\n",
       "      <td>279.980188</td>\n",
       "      <td>0.921053</td>\n",
       "    </tr>\n",
       "    <tr>\n",
       "      <th>3.50</th>\n",
       "      <td>0.028434</td>\n",
       "      <td>284.338281</td>\n",
       "      <td>0.914552</td>\n",
       "    </tr>\n",
       "    <tr>\n",
       "      <th>3.75</th>\n",
       "      <td>0.02887</td>\n",
       "      <td>288.696846</td>\n",
       "      <td>0.907998</td>\n",
       "    </tr>\n",
       "    <tr>\n",
       "      <th>4.00</th>\n",
       "      <td>0.029306</td>\n",
       "      <td>293.055883</td>\n",
       "      <td>0.901394</td>\n",
       "    </tr>\n",
       "    <tr>\n",
       "      <th>4.25</th>\n",
       "      <td>0.029742</td>\n",
       "      <td>297.415391</td>\n",
       "      <td>0.894742</td>\n",
       "    </tr>\n",
       "    <tr>\n",
       "      <th>4.50</th>\n",
       "      <td>0.030178</td>\n",
       "      <td>301.77537</td>\n",
       "      <td>0.888042</td>\n",
       "    </tr>\n",
       "    <tr>\n",
       "      <th>4.75</th>\n",
       "      <td>0.030614</td>\n",
       "      <td>306.135822</td>\n",
       "      <td>0.881297</td>\n",
       "    </tr>\n",
       "    <tr>\n",
       "      <th>5.00</th>\n",
       "      <td>0.03105</td>\n",
       "      <td>310.496745</td>\n",
       "      <td>0.874509</td>\n",
       "    </tr>\n",
       "    <tr>\n",
       "      <th>5.25</th>\n",
       "      <td>0.031486</td>\n",
       "      <td>314.85814</td>\n",
       "      <td>0.867679</td>\n",
       "    </tr>\n",
       "    <tr>\n",
       "      <th>5.50</th>\n",
       "      <td>-0.023783</td>\n",
       "      <td>-237.832758</td>\n",
       "      <td>0.872869</td>\n",
       "    </tr>\n",
       "    <tr>\n",
       "      <th>5.75</th>\n",
       "      <td>-0.028379</td>\n",
       "      <td>-283.794046</td>\n",
       "      <td>0.879106</td>\n",
       "    </tr>\n",
       "    <tr>\n",
       "      <th>6.00</th>\n",
       "      <td>-0.03297</td>\n",
       "      <td>-329.702206</td>\n",
       "      <td>0.886412</td>\n",
       "    </tr>\n",
       "    <tr>\n",
       "      <th>6.25</th>\n",
       "      <td>-0.037556</td>\n",
       "      <td>-375.557302</td>\n",
       "      <td>0.894814</td>\n",
       "    </tr>\n",
       "    <tr>\n",
       "      <th>6.50</th>\n",
       "      <td>0.042651</td>\n",
       "      <td>426.507312</td>\n",
       "      <td>0.885373</td>\n",
       "    </tr>\n",
       "    <tr>\n",
       "      <th>6.75</th>\n",
       "      <td>0.044567</td>\n",
       "      <td>445.66979</td>\n",
       "      <td>0.875617</td>\n",
       "    </tr>\n",
       "    <tr>\n",
       "      <th>7.00</th>\n",
       "      <td>0.046484</td>\n",
       "      <td>464.841351</td>\n",
       "      <td>0.865559</td>\n",
       "    </tr>\n",
       "    <tr>\n",
       "      <th>7.25</th>\n",
       "      <td>0.048402</td>\n",
       "      <td>484.022</td>\n",
       "      <td>0.85521</td>\n",
       "    </tr>\n",
       "    <tr>\n",
       "      <th>7.50</th>\n",
       "      <td>0.050321</td>\n",
       "      <td>503.211741</td>\n",
       "      <td>0.844585</td>\n",
       "    </tr>\n",
       "    <tr>\n",
       "      <th>7.75</th>\n",
       "      <td>0.052241</td>\n",
       "      <td>522.410577</td>\n",
       "      <td>0.833697</td>\n",
       "    </tr>\n",
       "    <tr>\n",
       "      <th>8.00</th>\n",
       "      <td>0.054162</td>\n",
       "      <td>541.618514</td>\n",
       "      <td>0.822559</td>\n",
       "    </tr>\n",
       "    <tr>\n",
       "      <th>8.25</th>\n",
       "      <td>0.056084</td>\n",
       "      <td>560.835556</td>\n",
       "      <td>0.811185</td>\n",
       "    </tr>\n",
       "    <tr>\n",
       "      <th>8.50</th>\n",
       "      <td>0.058006</td>\n",
       "      <td>580.061707</td>\n",
       "      <td>0.79959</td>\n",
       "    </tr>\n",
       "    <tr>\n",
       "      <th>8.75</th>\n",
       "      <td>0.05993</td>\n",
       "      <td>599.296971</td>\n",
       "      <td>0.787787</td>\n",
       "    </tr>\n",
       "    <tr>\n",
       "      <th>9.00</th>\n",
       "      <td>0.017905</td>\n",
       "      <td>179.052039</td>\n",
       "      <td>0.784276</td>\n",
       "    </tr>\n",
       "    <tr>\n",
       "      <th>9.25</th>\n",
       "      <td>0.017381</td>\n",
       "      <td>173.809547</td>\n",
       "      <td>0.780883</td>\n",
       "    </tr>\n",
       "    <tr>\n",
       "      <th>9.50</th>\n",
       "      <td>0.031371</td>\n",
       "      <td>313.705123</td>\n",
       "      <td>0.774807</td>\n",
       "    </tr>\n",
       "    <tr>\n",
       "      <th>9.75</th>\n",
       "      <td>0.03161</td>\n",
       "      <td>316.097383</td>\n",
       "      <td>0.768732</td>\n",
       "    </tr>\n",
       "    <tr>\n",
       "      <th>10.00</th>\n",
       "      <td>0.031849</td>\n",
       "      <td>318.489785</td>\n",
       "      <td>0.762659</td>\n",
       "    </tr>\n",
       "  </tbody>\n",
       "</table>\n",
       "</div>"
      ],
      "text/plain": [
       "        forward       float Discount Factor\n",
       "0.25      0.035       350.0        0.991288\n",
       "0.50   0.024013  240.125699        0.985373\n",
       "0.75   0.012902  129.023274        0.982205\n",
       "1.00   0.001823   18.227601        0.981757\n",
       "1.25   0.036938  369.381396        0.972774\n",
       "1.50   0.044356  443.557376        0.962105\n",
       "1.75   0.023901  239.014319        0.956391\n",
       "2.00   0.023349  233.485141         0.95084\n",
       "2.25   0.022796  227.956722        0.945452\n",
       "2.50   0.022243  222.429063        0.940224\n",
       "2.75   0.027127  271.265415        0.933891\n",
       "3.00   0.027562  275.622566          0.9275\n",
       "3.25   0.027998  279.980188        0.921053\n",
       "3.50   0.028434  284.338281        0.914552\n",
       "3.75    0.02887  288.696846        0.907998\n",
       "4.00   0.029306  293.055883        0.901394\n",
       "4.25   0.029742  297.415391        0.894742\n",
       "4.50   0.030178   301.77537        0.888042\n",
       "4.75   0.030614  306.135822        0.881297\n",
       "5.00    0.03105  310.496745        0.874509\n",
       "5.25   0.031486   314.85814        0.867679\n",
       "5.50  -0.023783 -237.832758        0.872869\n",
       "5.75  -0.028379 -283.794046        0.879106\n",
       "6.00   -0.03297 -329.702206        0.886412\n",
       "6.25  -0.037556 -375.557302        0.894814\n",
       "6.50   0.042651  426.507312        0.885373\n",
       "6.75   0.044567   445.66979        0.875617\n",
       "7.00   0.046484  464.841351        0.865559\n",
       "7.25   0.048402     484.022         0.85521\n",
       "7.50   0.050321  503.211741        0.844585\n",
       "7.75   0.052241  522.410577        0.833697\n",
       "8.00   0.054162  541.618514        0.822559\n",
       "8.25   0.056084  560.835556        0.811185\n",
       "8.50   0.058006  580.061707         0.79959\n",
       "8.75    0.05993  599.296971        0.787787\n",
       "9.00   0.017905  179.052039        0.784276\n",
       "9.25   0.017381  173.809547        0.780883\n",
       "9.50   0.031371  313.705123        0.774807\n",
       "9.75    0.03161  316.097383        0.768732\n",
       "10.00  0.031849  318.489785        0.762659"
      ]
     },
     "execution_count": 16,
     "metadata": {},
     "output_type": "execute_result"
    }
   ],
   "source": [
    "IRS"
   ]
  },
  {
   "cell_type": "markdown",
   "id": "cd2c538b",
   "metadata": {},
   "source": [
    "이자율 곡선에서 음수의 기울기를 가지는 부분이 존재해 선도금리도 음수가 나왔습니다. 음수의 현금흐름을 가정하고 진행합니다.<br>\n",
    "이제 각 시점에서의 현금흐름의 할인가를 모두 더한 Float Leg의 가치를 구합니다."
   ]
  },
  {
   "cell_type": "code",
   "execution_count": 17,
   "id": "1150b95d",
   "metadata": {},
   "outputs": [
    {
     "data": {
      "text/plain": [
       "9492.104522285385"
      ]
     },
     "execution_count": 17,
     "metadata": {},
     "output_type": "execute_result"
    }
   ],
   "source": [
    "np.sum(IRS['float']*IRS[\"Discount Factor\"])"
   ]
  },
  {
   "cell_type": "markdown",
   "id": "66db6036",
   "metadata": {},
   "source": [
    "이제 고정금리 수취자의 각 시점에서의 현금흐름이 1이라고 가정하고 Fixed Leg의 가치를 구합니다."
   ]
  },
  {
   "cell_type": "code",
   "execution_count": 18,
   "id": "cc66744f",
   "metadata": {},
   "outputs": [
    {
     "data": {
      "text/plain": [
       "35.36678546165185"
      ]
     },
     "execution_count": 18,
     "metadata": {},
     "output_type": "execute_result"
    }
   ],
   "source": [
    "np.sum(1*IRS[\"Discount Factor\"])"
   ]
  },
  {
   "cell_type": "markdown",
   "id": "bae29b6e",
   "metadata": {},
   "source": [
    "이제 Float Leg의 가치를 이 값으로 나눈 수가 고정금리 수취자의 각 시점에서의 현금흐름이 되게 하는 금리를 구하면 됩니다."
   ]
  },
  {
   "cell_type": "code",
   "execution_count": 19,
   "id": "ac9e6f38",
   "metadata": {},
   "outputs": [],
   "source": [
    "FixedCF = np.sum(IRS['float']*IRS[\"Discount Factor\"])/np.sum(1*IRS[\"Discount Factor\"])"
   ]
  },
  {
   "cell_type": "markdown",
   "id": "7e45b2a5",
   "metadata": {},
   "source": [
    "이제 이 값을 현금흐름으로 가지기 위한 금리를 구하면 이자율스왑의 가격결정이 끝납니다."
   ]
  },
  {
   "cell_type": "code",
   "execution_count": 20,
   "id": "04385825",
   "metadata": {},
   "outputs": [
    {
     "data": {
      "text/plain": [
       "0.02683903667913969"
      ]
     },
     "execution_count": 20,
     "metadata": {},
     "output_type": "execute_result"
    }
   ],
   "source": [
    "rate = FixedCF/NA\n",
    "rate"
   ]
  },
  {
   "cell_type": "markdown",
   "id": "a430d25d",
   "metadata": {},
   "source": [
    "즉 변동 금리로 국채 금리를 사용할 경우, 10년 만기 이자율스왑 금리는 2.684%입니다."
   ]
  }
 ],
 "metadata": {
  "kernelspec": {
   "display_name": "Python 3 (ipykernel)",
   "language": "python",
   "name": "python3"
  },
  "language_info": {
   "codemirror_mode": {
    "name": "ipython",
    "version": 3
   },
   "file_extension": ".py",
   "mimetype": "text/x-python",
   "name": "python",
   "nbconvert_exporter": "python",
   "pygments_lexer": "ipython3",
   "version": "3.11.5"
  }
 },
 "nbformat": 4,
 "nbformat_minor": 5
}
